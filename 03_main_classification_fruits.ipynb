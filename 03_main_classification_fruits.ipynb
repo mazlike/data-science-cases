{
 "cells": [
  {
   "cell_type": "code",
   "execution_count": 16,
   "id": "60570625",
   "metadata": {},
   "outputs": [
    {
     "data": {
      "text/plain": [
       "('2.2.4', 'cuda')"
      ]
     },
     "execution_count": 16,
     "metadata": {},
     "output_type": "execute_result"
    }
   ],
   "source": [
    "import numpy as np\n",
    "import pandas as pd\n",
    "import matplotlib.pyplot as plt\n",
    "import seaborn as sea\n",
    "from tqdm.notebook import tqdm\n",
    "import os\n",
    "import torch\n",
    "import torch.nn as nn\n",
    "from torch.utils.data import Dataset, DataLoader\n",
    "from torchvision import transforms\n",
    "import torch.nn.functional as F\n",
    "import torchmetrics\n",
    "from torchmetrics import Metric\n",
    "import torchvision\n",
    "from torchvision import models\n",
    "from sklearn.metrics import accuracy_score, recall_score, f1_score, confusion_matrix\n",
    "\n",
    "device = 'cuda' if torch.cuda.is_available() else 'cpu'\n",
    "\n",
    "np.__version__, device"
   ]
  },
  {
   "cell_type": "code",
   "execution_count": 2,
   "id": "e78e825d",
   "metadata": {},
   "outputs": [
    {
     "data": {
      "application/vnd.jupyter.widget-view+json": {
       "model_id": "6d1bd5068a914b9bbe93e0982fc73801",
       "version_major": 2,
       "version_minor": 0
      },
      "text/plain": [
       "  0%|          | 0/14 [00:00<?, ?it/s]"
      ]
     },
     "metadata": {},
     "output_type": "display_data"
    },
    {
     "data": {
      "application/vnd.jupyter.widget-view+json": {
       "model_id": "403005811ec2499bbf49c3b81ed33d60",
       "version_major": 2,
       "version_minor": 0
      },
      "text/plain": [
       "  0%|          | 0/13 [00:00<?, ?it/s]"
      ]
     },
     "metadata": {},
     "output_type": "display_data"
    },
    {
     "data": {
      "text/plain": [
       "((21044, 3), (6368, 3))"
      ]
     },
     "execution_count": 2,
     "metadata": {},
     "output_type": "execute_result"
    }
   ],
   "source": [
    "TRAIN_PATH = 'dataset\\Train'\n",
    "TEST_PATH = 'dataset\\Test'\n",
    "\n",
    "def load_data(PATH):\n",
    "    filenames, fruit, fresh = [], [], []\n",
    "    \n",
    "    for file in tqdm(os.listdir(PATH)):\n",
    "        for img in os.listdir(os.path.join(PATH, file)):\n",
    "            fresh.append(0 if file[0] == 'f' else 1)\n",
    "            fruit.append(file[5:] if file[0] == 'f' else file[6: ])\n",
    "            filenames.append(os.path.join(PATH, file, img))\n",
    "            \n",
    "    df = pd.DataFrame({\n",
    "        'filename' : filenames,\n",
    "        'fruit' : fruit,\n",
    "        'fresh' : fresh\n",
    "    })\n",
    "    \n",
    "    return df\n",
    "\n",
    "df_train = load_data(TRAIN_PATH).sample(frac = 1)\n",
    "df_test = load_data(TEST_PATH).sample(frac = 1)\n",
    "\n",
    "df_train.shape, df_test.shape"
   ]
  },
  {
   "cell_type": "code",
   "execution_count": 3,
   "id": "059c0e1c",
   "metadata": {},
   "outputs": [],
   "source": [
    "df_train.drop(df_train[(df_train['fruit'] == 'capsicum') | (df_train['fruit'] == 'bittergroud') | (df_train['fruit'] == 'okra') | (df_train['fruit'] == 'oranges') | (df_train['fruit'] == 'cucumber')].index, inplace = True)\n",
    "df_test['fruit'] = df_test['fruit'].map(lambda x : 'tomato' if x == 'tamto' else x)\n",
    "df_test['fruit'] = df_test['fruit'].map(lambda x : 'potato' if x == 'patato' else x)\n",
    "df_test.drop(df_test[(df_test['fruit'] == 'okra') | (df_test['fruit'] == 'oranges') | (df_test['fruit'] == 'cucumber')].index, inplace = True)"
   ]
  },
  {
   "cell_type": "code",
   "execution_count": 4,
   "id": "66574fee",
   "metadata": {},
   "outputs": [
    {
     "data": {
      "text/plain": [
       "(20542, 3)"
      ]
     },
     "execution_count": 4,
     "metadata": {},
     "output_type": "execute_result"
    }
   ],
   "source": [
    "df = pd.concat([df_train, df_test], axis = 0)\n",
    "df.shape"
   ]
  },
  {
   "cell_type": "code",
   "execution_count": 5,
   "id": "8f1842ee",
   "metadata": {},
   "outputs": [
    {
     "data": {
      "text/plain": [
       "<Axes: xlabel='fruit', ylabel='count'>"
      ]
     },
     "execution_count": 5,
     "metadata": {},
     "output_type": "execute_result"
    },
    {
     "data": {
      "image/png": "[encoded data removed]",
      "text/plain": [
       "<Figure size 640x480 with 1 Axes>"
      ]
     },
     "metadata": {},
     "output_type": "display_data"
    }
   ],
   "source": [
    "sea.countplot(x = 'fruit', data = df, hue = 'fresh')"
   ]
  },
  {
   "cell_type": "code",
   "execution_count": 6,
   "id": "f114fcc0",
   "metadata": {},
   "outputs": [
    {
     "data": {
      "text/plain": [
       "fruit\n",
       "apples    7451\n",
       "banana    7192\n",
       "tomato    4291\n",
       "potato    1608\n",
       "Name: count, dtype: int64"
      ]
     },
     "execution_count": 6,
     "metadata": {},
     "output_type": "execute_result"
    }
   ],
   "source": [
    "counts = df['fruit'].value_counts()\n",
    "counts"
   ]
  },
  {
   "cell_type": "code",
   "execution_count": 7,
   "id": "8d33a50e",
   "metadata": {},
   "outputs": [
    {
     "data": {
      "text/plain": [
       "(7542, 3)"
      ]
     },
     "execution_count": 7,
     "metadata": {},
     "output_type": "execute_result"
    }
   ],
   "source": [
    "balanced_df = pd.DataFrame(columns= ['filename', 'fruit', 'fresh'])\n",
    "for (key, value) in counts.items():\n",
    "    if value > 1978:\n",
    "        df_temp = df[df['fruit'] == key].sample(n = 1978)\n",
    "    else:\n",
    "        df_temp = df[df['fruit'] == key]\n",
    "        \n",
    "    balanced_df = pd.concat([balanced_df, df_temp], axis = 0)  \n",
    "    \n",
    "balanced_df.shape"
   ]
  },
  {
   "cell_type": "code",
   "execution_count": 8,
   "id": "57468dbc",
   "metadata": {},
   "outputs": [
    {
     "data": {
      "text/plain": [
       "(7542, 4)"
      ]
     },
     "execution_count": 8,
     "metadata": {},
     "output_type": "execute_result"
    }
   ],
   "source": [
    "from sklearn.preprocessing import LabelEncoder\n",
    "le = LabelEncoder()\n",
    "\n",
    "balanced_df['fruit_label'] = le.fit_transform(balanced_df['fruit'])\n",
    "balanced_df.shape\n"
   ]
  },
  {
   "cell_type": "code",
   "execution_count": 11,
   "id": "cc6f56b4",
   "metadata": {},
   "outputs": [
    {
     "data": {
      "text/html": [
       "<div>\n",
       "<style scoped>\n",
       "    .dataframe tbody tr th:only-of-type {\n",
       "        vertical-align: middle;\n",
       "    }\n",
       "\n",
       "    .dataframe tbody tr th {\n",
       "        vertical-align: top;\n",
       "    }\n",
       "\n",
       "    .dataframe thead th {\n",
       "        text-align: right;\n",
       "    }\n",
       "</style>\n",
       "<table border=\"1\" class=\"dataframe\">\n",
       "  <thead>\n",
       "    <tr style=\"text-align: right;\">\n",
       "      <th></th>\n",
       "      <th>filename</th>\n",
       "      <th>fruit</th>\n",
       "      <th>fresh</th>\n",
       "      <th>fruit_label</th>\n",
       "    </tr>\n",
       "  </thead>\n",
       "  <tbody>\n",
       "    <tr>\n",
       "      <th>3426</th>\n",
       "      <td>dataset\\Test\\rottenapples\\a_r182.png</td>\n",
       "      <td>apples</td>\n",
       "      <td>1</td>\n",
       "      <td>0</td>\n",
       "    </tr>\n",
       "    <tr>\n",
       "      <th>3616</th>\n",
       "      <td>dataset\\Test\\rottenapples\\a_r372.png</td>\n",
       "      <td>apples</td>\n",
       "      <td>1</td>\n",
       "      <td>0</td>\n",
       "    </tr>\n",
       "    <tr>\n",
       "      <th>11105</th>\n",
       "      <td>dataset\\Train\\rottenapples\\rotated_by_30_Scree...</td>\n",
       "      <td>apples</td>\n",
       "      <td>1</td>\n",
       "      <td>0</td>\n",
       "    </tr>\n",
       "    <tr>\n",
       "      <th>152</th>\n",
       "      <td>dataset\\Test\\freshapples\\a_f153.png</td>\n",
       "      <td>apples</td>\n",
       "      <td>0</td>\n",
       "      <td>0</td>\n",
       "    </tr>\n",
       "    <tr>\n",
       "      <th>11611</th>\n",
       "      <td>dataset\\Train\\rottenapples\\rotated_by_60_Scree...</td>\n",
       "      <td>apples</td>\n",
       "      <td>1</td>\n",
       "      <td>0</td>\n",
       "    </tr>\n",
       "  </tbody>\n",
       "</table>\n",
       "</div>"
      ],
      "text/plain": [
       "                                                filename   fruit fresh  \\\n",
       "3426                dataset\\Test\\rottenapples\\a_r182.png  apples     1   \n",
       "3616                dataset\\Test\\rottenapples\\a_r372.png  apples     1   \n",
       "11105  dataset\\Train\\rottenapples\\rotated_by_30_Scree...  apples     1   \n",
       "152                  dataset\\Test\\freshapples\\a_f153.png  apples     0   \n",
       "11611  dataset\\Train\\rottenapples\\rotated_by_60_Scree...  apples     1   \n",
       "\n",
       "       fruit_label  \n",
       "3426             0  \n",
       "3616             0  \n",
       "11105            0  \n",
       "152              0  \n",
       "11611            0  "
      ]
     },
     "execution_count": 11,
     "metadata": {},
     "output_type": "execute_result"
    }
   ],
   "source": [
    "balanced_df.head()"
   ]
  },
  {
   "cell_type": "code",
   "execution_count": 9,
   "id": "cf83d950",
   "metadata": {},
   "outputs": [
    {
     "data": {
      "text/plain": [
       "((6410, 4), (1132, 4))"
      ]
     },
     "execution_count": 9,
     "metadata": {},
     "output_type": "execute_result"
    }
   ],
   "source": [
    "from sklearn.model_selection import train_test_split\n",
    "\n",
    "df_train, df_val = train_test_split(balanced_df, test_size = 0.15, stratify = balanced_df['fruit_label'])\n",
    "\n",
    "df_train.shape, df_val.shape"
   ]
  },
  {
   "cell_type": "code",
   "execution_count": 10,
   "id": "b7e8327c",
   "metadata": {},
   "outputs": [],
   "source": [
    "def image_transform(img, p = 0.5, training = True):    \n",
    "    if training:\n",
    "        img = transforms.Compose([\n",
    "            transforms.ToTensor(),\n",
    "            transforms.Resize((224, 224)),\n",
    "            transforms.RandomHorizontalFlip(p = p),\n",
    "            transforms.GaussianBlur(3, sigma=(0.1, 2.0)),\n",
    "            transforms.RandomAdjustSharpness(3, p = p),\n",
    "            transforms.Normalize(mean = 0, std = 1)\n",
    "        ])(img)\n",
    "    else:\n",
    "        img = transforms.Compose([\n",
    "            transforms.ToTensor(),\n",
    "            transforms.Resize((224, 224)),\n",
    "            transforms.Normalize(mean = 0, std = 1)\n",
    "        ])(img)\n",
    "\n",
    "    return img\n",
    "\n",
    "class FruitDataset:\n",
    "    def __init__(self, df, training):\n",
    "        self.df = df\n",
    "        self.n_samples = len(self.df)\n",
    "        self.training = training\n",
    "        \n",
    "    def __len__(self):\n",
    "        return self.n_samples\n",
    "    \n",
    "    def __getitem__(self, idx):\n",
    "        # Используем iloc с двумя индексами: сначала строка, затем позиция столбца\n",
    "        img = plt.imread(self.df.iloc[idx, 0])[:, :, :3]\n",
    "        fresh = torch.tensor(self.df.iloc[idx, 2])\n",
    "        fruit = torch.tensor(self.df.iloc[idx, 3])\n",
    "\n",
    "        img = image_transform(img, p = 0.5, training = self.training)\n",
    "            \n",
    "        return img, fruit, fresh"
   ]
  },
  {
   "cell_type": "code",
   "execution_count": 11,
   "id": "e55f14a1",
   "metadata": {},
   "outputs": [],
   "source": [
    "BATCH_SIZE = 64\n",
    "\n",
    "\n",
    "train_dataset = FruitDataset(df_train, training = True)\n",
    "val_dataset = FruitDataset(df_val, training = False)\n",
    "\n",
    "train_loader = DataLoader(train_dataset, batch_size = BATCH_SIZE, shuffle = True)\n",
    "val_loader = DataLoader(val_dataset, batch_size = BATCH_SIZE)"
   ]
  },
  {
   "cell_type": "code",
   "execution_count": 16,
   "id": "d5737035",
   "metadata": {},
   "outputs": [
    {
     "name": "stdout",
     "output_type": "stream",
     "text": [
      "Логиты для типа фрукта: tensor([[-0.0287, -0.0252, -0.0540,  0.1007, -0.0068,  0.0019,  0.0633]],\n",
      "       device='cuda:0', grad_fn=<AddmmBackward0>)\n",
      "Логиты для состояния: tensor([[ 0.0701, -0.0602]], device='cuda:0', grad_fn=<AddmmBackward0>)\n"
     ]
    }
   ],
   "source": [
    "class SimpleCNN(nn.Module):\n",
    "    def __init__(self, num_fruits=7, num_states=2):\n",
    "        super(SimpleCNN, self).__init__()\n",
    "        # Сверточные слои\n",
    "        self.conv1 = nn.Conv2d(3, 32, kernel_size=3, padding=1)\n",
    "        self.conv2 = nn.Conv2d(32, 64, kernel_size=3, padding=1)\n",
    "        self.conv3 = nn.Conv2d(64, 128, kernel_size=3, padding=1)\n",
    "        \n",
    "        # Полносвязные слои для обеих задач\n",
    "        # Предполагаем, что размер изображения 224x224, после трёх блоков MaxPool (каждый уменьшает размер в 2 раза) получим 28x28\n",
    "        self.fc_input_dim = 128 * 28 * 28\n",
    "        \n",
    "        # Голова для классификации типа фрукта\n",
    "        self.fc_fruit = nn.Sequential(\n",
    "            nn.Linear(self.fc_input_dim, 512),\n",
    "            nn.ReLU(),\n",
    "            nn.Linear(512, num_fruits)\n",
    "        )\n",
    "        \n",
    "        # Голова для классификации состояния\n",
    "        self.fc_state = nn.Sequential(\n",
    "            nn.Linear(self.fc_input_dim, 512),\n",
    "            nn.ReLU(),\n",
    "            nn.Linear(512, num_states)\n",
    "        )\n",
    "        \n",
    "        # Слой подвыборки\n",
    "        self.pool = nn.MaxPool2d(2, 2)\n",
    "    \n",
    "    def forward(self, x):\n",
    "        # Сверточная часть\n",
    "        x = F.relu(self.conv1(x))\n",
    "        x = self.pool(x)\n",
    "        \n",
    "        x = F.relu(self.conv2(x))\n",
    "        x = self.pool(x)\n",
    "        \n",
    "        x = F.relu(self.conv3(x))\n",
    "        x = self.pool(x)\n",
    "        \n",
    "        # Разворачиваем в вектор\n",
    "        x = x.view(x.size(0), -1)\n",
    "        \n",
    "        # Параллельное предсказание двух задач\n",
    "        fruit_logits = self.fc_fruit(x)\n",
    "        state_logits = self.fc_state(x)\n",
    "        return fruit_logits, state_logits\n",
    "\n",
    "# Пример использования модели:\n",
    "device = torch.device(\"cuda\" if torch.cuda.is_available() else \"cpu\")\n",
    "model = SimpleCNN(num_fruits=7, num_states=2).to(device)\n",
    "\n",
    "# Пример входного изображения (batch_size=1, 3x224x224)\n",
    "dummy_input = torch.randn(1, 3, 224, 224).to(device)\n",
    "fruit_pred, state_pred = model(dummy_input)\n",
    "\n",
    "print(\"Логиты для типа фрукта:\", fruit_pred)\n",
    "print(\"Логиты для состояния:\", state_pred)"
   ]
  },
  {
   "cell_type": "code",
   "execution_count": 17,
   "id": "83499257",
   "metadata": {},
   "outputs": [
    {
     "name": "stderr",
     "output_type": "stream",
     "text": [
      "d:\\Projects\\University courseworks\\ML5\\env\\Lib\\site-packages\\torchvision\\transforms\\functional.py:154: UserWarning: The given NumPy array is not writable, and PyTorch does not support non-writable tensors. This means writing to this tensor will result in undefined behavior. You may want to copy the array to protect its data or make it writable before converting it to a tensor. This type of warning will be suppressed for the rest of this program. (Triggered internally at C:\\actions-runner\\_work\\pytorch\\pytorch\\pytorch\\torch\\csrc\\utils\\tensor_numpy.cpp:209.)\n",
      "  img = torch.from_numpy(pic.transpose((2, 0, 1))).contiguous()\n"
     ]
    },
    {
     "name": "stdout",
     "output_type": "stream",
     "text": [
      "Epoch [1/5], Batch [64/101], Loss: 0.7678, Fruit Acc: 0.9062, Fresh Acc: 0.6719\n",
      "Epoch [1/5] завершена\n",
      "Train Loss: 1.0113, Fruit Acc: 0.8233, Fresh Acc: 0.7169\n",
      "Val Loss: 0.7394, Fruit Acc: 0.9428, Fresh Acc: 0.7214\n",
      "\n",
      "Epoch [2/5], Batch [64/101], Loss: 0.4815, Fruit Acc: 0.9844, Fresh Acc: 0.7656\n",
      "Epoch [2/5] завершена\n",
      "Train Loss: 0.5309, Fruit Acc: 0.9587, Fresh Acc: 0.8087\n",
      "Val Loss: 0.5448, Fruit Acc: 0.9454, Fresh Acc: 0.7812\n",
      "\n",
      "Epoch [3/5], Batch [64/101], Loss: 0.3072, Fruit Acc: 0.9844, Fresh Acc: 0.8906\n",
      "Epoch [3/5] завершена\n",
      "Train Loss: 0.4214, Fruit Acc: 0.9700, Fresh Acc: 0.8558\n",
      "Val Loss: 0.4021, Fruit Acc: 0.9701, Fresh Acc: 0.8613\n",
      "\n",
      "Epoch [4/5], Batch [64/101], Loss: 0.5084, Fruit Acc: 0.9531, Fresh Acc: 0.8594\n",
      "Epoch [4/5] завершена\n",
      "Train Loss: 0.3524, Fruit Acc: 0.9766, Fresh Acc: 0.8766\n",
      "Val Loss: 0.3424, Fruit Acc: 0.9766, Fresh Acc: 0.8774\n",
      "\n",
      "Epoch [5/5], Batch [64/101], Loss: 0.3375, Fruit Acc: 0.9844, Fresh Acc: 0.9062\n",
      "Epoch [5/5] завершена\n",
      "Train Loss: 0.2979, Fruit Acc: 0.9802, Fresh Acc: 0.8930\n",
      "Val Loss: 0.3484, Fruit Acc: 0.9697, Fresh Acc: 0.8804\n",
      "\n"
     ]
    },
    {
     "data": {
      "text/plain": [
       "SimpleCNN(\n",
       "  (conv1): Conv2d(3, 32, kernel_size=(3, 3), stride=(1, 1), padding=(1, 1))\n",
       "  (conv2): Conv2d(32, 64, kernel_size=(3, 3), stride=(1, 1), padding=(1, 1))\n",
       "  (conv3): Conv2d(64, 128, kernel_size=(3, 3), stride=(1, 1), padding=(1, 1))\n",
       "  (fc_fruit): Sequential(\n",
       "    (0): Linear(in_features=100352, out_features=512, bias=True)\n",
       "    (1): ReLU()\n",
       "    (2): Linear(in_features=512, out_features=7, bias=True)\n",
       "  )\n",
       "  (fc_state): Sequential(\n",
       "    (0): Linear(in_features=100352, out_features=512, bias=True)\n",
       "    (1): ReLU()\n",
       "    (2): Linear(in_features=512, out_features=2, bias=True)\n",
       "  )\n",
       "  (pool): MaxPool2d(kernel_size=2, stride=2, padding=0, dilation=1, ceil_mode=False)\n",
       ")"
      ]
     },
     "execution_count": 17,
     "metadata": {},
     "output_type": "execute_result"
    }
   ],
   "source": [
    "import torch.optim as optim\n",
    "from sklearn.metrics import confusion_matrix, accuracy_score, classification_report\n",
    "\n",
    "# Определяем устройство и отправляем модель на него\n",
    "device = torch.device(\"cuda\" if torch.cuda.is_available() else \"cpu\")\n",
    "model.to(device)\n",
    "\n",
    "# Задаём оптимизатор и функцию потерь (например, CrossEntropyLoss для обеих задач)\n",
    "optimizer = optim.Adam(model.parameters(), lr=1e-4)\n",
    "criterion = nn.CrossEntropyLoss()\n",
    "\n",
    "num_epochs = 5  # можно задать нужное количество эпох\n",
    "\n",
    "# Цикл обучения\n",
    "# Инициализация списков для сохранения метрик\n",
    "train_losses = []\n",
    "train_fruit_accs = []\n",
    "train_fresh_accs = []\n",
    "val_losses = []\n",
    "val_fruit_accs = []\n",
    "val_fresh_accs = []\n",
    "\n",
    "for epoch in range(num_epochs):\n",
    "    # Тренировочная фаза\n",
    "    model.train()\n",
    "    running_loss = 0.0\n",
    "    running_fruit_acc = 0.0\n",
    "    running_fresh_acc = 0.0\n",
    "    \n",
    "    for batch_idx, (imgs, fruit_labels, fresh_labels) in enumerate(train_loader):\n",
    "        imgs = imgs.to(device)\n",
    "        fruit_labels = fruit_labels.to(device)\n",
    "        fresh_labels = fresh_labels.to(device)\n",
    "        \n",
    "        optimizer.zero_grad()\n",
    "        \n",
    "        fruit_logits, fresh_logits = model(imgs)\n",
    "        loss_fruit = criterion(fruit_logits, fruit_labels)\n",
    "        loss_fresh = criterion(fresh_logits, fresh_labels)\n",
    "        loss = loss_fruit + loss_fresh\n",
    "        \n",
    "        loss.backward()\n",
    "        optimizer.step()\n",
    "        \n",
    "        running_loss += loss.item()\n",
    "        \n",
    "        # Вычисление точности\n",
    "        fruit_preds = torch.argmax(fruit_logits, dim=1)\n",
    "        fresh_preds = torch.argmax(fresh_logits, dim=1)\n",
    "        batch_fruit_acc = (fruit_preds == fruit_labels).float().mean().item()\n",
    "        batch_fresh_acc = (fresh_preds == fresh_labels).float().mean().item()\n",
    "        running_fruit_acc += batch_fruit_acc\n",
    "        running_fresh_acc += batch_fresh_acc\n",
    "        \n",
    "        if (batch_idx + 1) % 64 == 0:\n",
    "            print(f\"Epoch [{epoch+1}/{num_epochs}], Batch [{batch_idx+1}/{len(train_loader)}], \"\n",
    "                  f\"Loss: {loss.item():.4f}, Fruit Acc: {batch_fruit_acc:.4f}, Fresh Acc: {batch_fresh_acc:.4f}\")\n",
    "    \n",
    "    # Сохранение тренировочных метрик\n",
    "    epoch_loss = running_loss / len(train_loader)\n",
    "    epoch_fruit_acc = running_fruit_acc / len(train_loader)\n",
    "    epoch_fresh_acc = running_fresh_acc / len(train_loader)\n",
    "    train_losses.append(epoch_loss)\n",
    "    train_fruit_accs.append(epoch_fruit_acc)\n",
    "    train_fresh_accs.append(epoch_fresh_acc)\n",
    "    \n",
    "    # Валидационная фаза\n",
    "    model.eval()\n",
    "    val_running_loss = 0.0\n",
    "    val_running_fruit_acc = 0.0\n",
    "    val_running_fresh_acc = 0.0\n",
    "    \n",
    "    with torch.no_grad():\n",
    "        for imgs, fruit_labels, fresh_labels in val_loader:\n",
    "            imgs = imgs.to(device)\n",
    "            fruit_labels = fruit_labels.to(device)\n",
    "            fresh_labels = fresh_labels.to(device)\n",
    "            \n",
    "            fruit_logits, fresh_logits = model(imgs)\n",
    "            loss_fruit = criterion(fruit_logits, fruit_labels)\n",
    "            loss_fresh = criterion(fresh_logits, fresh_labels)\n",
    "            loss = loss_fruit + loss_fresh\n",
    "            \n",
    "            val_running_loss += loss.item()\n",
    "            \n",
    "            fruit_preds = torch.argmax(fruit_logits, dim=1)\n",
    "            fresh_preds = torch.argmax(fresh_logits, dim=1)\n",
    "            val_running_fruit_acc += (fruit_preds == fruit_labels).float().mean().item()\n",
    "            val_running_fresh_acc += (fresh_preds == fresh_labels).float().mean().item()\n",
    "    \n",
    "    # Сохранение валидационных метрик\n",
    "    val_epoch_loss = val_running_loss / len(val_loader)\n",
    "    val_epoch_fruit_acc = val_running_fruit_acc / len(val_loader)\n",
    "    val_epoch_fresh_acc = val_running_fresh_acc / len(val_loader)\n",
    "    val_losses.append(val_epoch_loss)\n",
    "    val_fruit_accs.append(val_epoch_fruit_acc)\n",
    "    val_fresh_accs.append(val_epoch_fresh_acc)\n",
    "    \n",
    "    # Вывод информации об эпохе\n",
    "    print(f\"Epoch [{epoch+1}/{num_epochs}] завершена\\n\"\n",
    "          f\"Train Loss: {epoch_loss:.4f}, Fruit Acc: {epoch_fruit_acc:.4f}, Fresh Acc: {epoch_fresh_acc:.4f}\\n\"\n",
    "          f\"Val Loss: {val_epoch_loss:.4f}, Fruit Acc: {val_epoch_fruit_acc:.4f}, Fresh Acc: {val_epoch_fresh_acc:.4f}\\n\")\n",
    "\n",
    "# Оценка на валидационном наборе\n",
    "model.eval()"
   ]
  },
  {
   "cell_type": "code",
   "execution_count": 18,
   "id": "b0c9bc3b",
   "metadata": {},
   "outputs": [
    {
     "name": "stdout",
     "output_type": "stream",
     "text": [
      "=== Метрики для классификации типа фрукта ===\n",
      "Accuracy: 0.9699646643109541\n",
      "Confusion Matrix:\n",
      "[[277  16   0   4]\n",
      " [  3 294   0   0]\n",
      " [  0   0 241   0]\n",
      " [  1   6   4 286]]\n",
      "\n",
      "Classification Report:\n",
      "              precision    recall  f1-score   support\n",
      "\n",
      "           0       0.99      0.93      0.96       297\n",
      "           1       0.93      0.99      0.96       297\n",
      "           2       0.98      1.00      0.99       241\n",
      "           3       0.99      0.96      0.97       297\n",
      "\n",
      "    accuracy                           0.97      1132\n",
      "   macro avg       0.97      0.97      0.97      1132\n",
      "weighted avg       0.97      0.97      0.97      1132\n",
      "\n",
      "\n",
      "=== Метрики для классификации состояния (fresh/spoiled) ===\n",
      "Accuracy: 0.8798586572438163\n",
      "Confusion Matrix:\n",
      "[[445  87]\n",
      " [ 49 551]]\n",
      "\n",
      "Classification Report:\n",
      "              precision    recall  f1-score   support\n",
      "\n",
      "           0       0.90      0.84      0.87       532\n",
      "           1       0.86      0.92      0.89       600\n",
      "\n",
      "    accuracy                           0.88      1132\n",
      "   macro avg       0.88      0.88      0.88      1132\n",
      "weighted avg       0.88      0.88      0.88      1132\n",
      "\n"
     ]
    }
   ],
   "source": [
    "all_fruit_preds = []\n",
    "all_fruit_true = []\n",
    "all_fresh_preds = []\n",
    "all_fresh_true = []\n",
    "\n",
    "with torch.no_grad():\n",
    "    for imgs, fruit_labels, fresh_labels in val_loader:\n",
    "        imgs = imgs.to(device)\n",
    "        fruit_labels = fruit_labels.to(device)\n",
    "        fresh_labels = fresh_labels.to(device)\n",
    "        \n",
    "        fruit_logits, fresh_logits = model(imgs)\n",
    "        \n",
    "        # Получаем предсказания (индексы наибольшего логита)\n",
    "        fruit_preds = torch.argmax(fruit_logits, dim=1)\n",
    "        fresh_preds = torch.argmax(fresh_logits, dim=1)\n",
    "        \n",
    "        all_fruit_preds.extend(fruit_preds.cpu().numpy())\n",
    "        all_fruit_true.extend(fruit_labels.cpu().numpy())\n",
    "        all_fresh_preds.extend(fresh_preds.cpu().numpy())\n",
    "        all_fresh_true.extend(fresh_labels.cpu().numpy())\n",
    "\n",
    "# Вычисление метрик для классификации фруктов\n",
    "print(\"=== Метрики для классификации типа фрукта ===\")\n",
    "fruit_acc = accuracy_score(all_fruit_true, all_fruit_preds)\n",
    "print(\"Accuracy:\", fruit_acc)\n",
    "print(\"Confusion Matrix:\")\n",
    "print(confusion_matrix(all_fruit_true, all_fruit_preds))\n",
    "print(\"\\nClassification Report:\")\n",
    "print(classification_report(all_fruit_true, all_fruit_preds))\n",
    "\n",
    "# Вычисление метрик для классификации состояния\n",
    "print(\"\\n=== Метрики для классификации состояния (fresh/spoiled) ===\")\n",
    "fresh_acc = accuracy_score(all_fresh_true, all_fresh_preds)\n",
    "print(\"Accuracy:\", fresh_acc)\n",
    "print(\"Confusion Matrix:\")\n",
    "print(confusion_matrix(all_fresh_true, all_fresh_preds))\n",
    "print(\"\\nClassification Report:\")\n",
    "print(classification_report(all_fresh_true, all_fresh_preds))"
   ]
  },
  {
   "cell_type": "code",
   "execution_count": 19,
   "id": "8a522621",
   "metadata": {},
   "outputs": [
    {
     "data": {
      "image/png": "[encoded data removed]",
      "text/plain": [
       "<Figure size 1500x500 with 2 Axes>"
      ]
     },
     "metadata": {},
     "output_type": "display_data"
    }
   ],
   "source": [
    "# Визуализация графиков обучения\n",
    "plt.figure(figsize=(15, 5))\n",
    "\n",
    "# График потерь\n",
    "plt.subplot(1, 2, 1)\n",
    "plt.plot(train_losses, label='Train Loss')\n",
    "plt.plot(val_losses, label='Validation Loss')\n",
    "plt.title('Training and Validation Loss')\n",
    "plt.xlabel('Epoch')\n",
    "plt.ylabel('Loss')\n",
    "plt.legend()\n",
    "\n",
    "# График точности\n",
    "plt.subplot(1, 2, 2)\n",
    "plt.plot(train_fruit_accs, label='Train Fruit Accuracy')\n",
    "plt.plot(val_fruit_accs, label='Validation Fruit Accuracy')\n",
    "plt.plot(train_fresh_accs, label='Train Fresh Accuracy')\n",
    "plt.plot(val_fresh_accs, label='Validation Fresh Accuracy')\n",
    "plt.title('Training and Validation Accuracy')\n",
    "plt.xlabel('Epoch')\n",
    "plt.ylabel('Accuracy')\n",
    "plt.legend()\n",
    "\n",
    "plt.tight_layout()\n",
    "plt.show()"
   ]
  },
  {
   "cell_type": "code",
   "execution_count": 26,
   "id": "418d75da",
   "metadata": {},
   "outputs": [],
   "source": [
    "class MultiTaskModel(nn.Module):\n",
    "    def __init__(self, backbone, num_fruit_classes, num_freshness_classes):\n",
    "        \"\"\"\n",
    "        backbone: предобученная модель из torchvision или иного источника.\n",
    "        num_fruit_classes: число классов для задачи классификации типа фрукта/овоща.\n",
    "        num_freshness_classes: число классов для задачи классификации свежести (например, 2).\n",
    "        \"\"\"\n",
    "        super(MultiTaskModel, self).__init__()\n",
    "        \n",
    "        self.backbone = backbone\n",
    "        \n",
    "        # Обработка backbone для извлечения признаков\n",
    "        # Если backbone имеет атрибут fc (например, ResNet)\n",
    "        if hasattr(self.backbone, 'fc'):\n",
    "            in_features = self.backbone.fc.in_features\n",
    "            self.backbone.fc = nn.Identity()  # убираем последний классификатор\n",
    "        # Если backbone имеет атрибут classifier (например, EfficientNet или MobileNetV3)\n",
    "        elif hasattr(self.backbone, 'classifier'):\n",
    "            if isinstance(self.backbone.classifier, nn.Sequential):\n",
    "                classifier_len = len(self.backbone.classifier)\n",
    "                if classifier_len == 2:\n",
    "                    # Пример для EfficientNetB3: [Dropout, Linear]\n",
    "                    in_features = self.backbone.classifier[1].in_features\n",
    "                elif classifier_len in [3, 4]:\n",
    "                    # Пример для MobileNetV3: [Linear, Hardswish, (Dropout), Linear]\n",
    "                    in_features = self.backbone.classifier[0].in_features\n",
    "                else:\n",
    "                    raise ValueError(f\"Неожиданная длина classifier: ожидается 2, 3 или 4 элемента, получено {classifier_len}.\")\n",
    "                self.backbone.classifier = nn.Identity()\n",
    "            else:\n",
    "                in_features = self.backbone.classifier.in_features\n",
    "                self.backbone.classifier = nn.Identity()\n",
    "        else:\n",
    "            raise ValueError(\"Неподдерживаемая модель backbone\")\n",
    "        \n",
    "        # Голова для классификации фрукта/овоща\n",
    "        self.fruit_head = nn.Sequential(\n",
    "            nn.Linear(in_features, 512),\n",
    "            nn.ReLU(),\n",
    "            nn.Linear(512, num_fruit_classes)\n",
    "        )\n",
    "        \n",
    "        # Голова для классификации свежести\n",
    "        self.fresh_head = nn.Sequential(\n",
    "            nn.Linear(in_features, 512),\n",
    "            nn.ReLU(),\n",
    "            nn.Linear(512, num_freshness_classes)\n",
    "        )\n",
    "    \n",
    "    def forward(self, x):\n",
    "        # Извлекаем признаки из backbone\n",
    "        features = self.backbone(x)\n",
    "        # Получаем предсказания для двух задач\n",
    "        fruit_logits = self.fruit_head(features)\n",
    "        fresh_logits = self.fresh_head(features)\n",
    "        return fruit_logits, fresh_logits"
   ]
  },
  {
   "cell_type": "code",
   "execution_count": 13,
   "id": "0cd94a1e",
   "metadata": {},
   "outputs": [],
   "source": [
    "# Функции для заморозки и разморозки весов backbone\n",
    "def freeze_backbone(model):\n",
    "    for param in model.backbone.parameters():\n",
    "        param.requires_grad = False\n",
    "\n",
    "def unfreeze_backbone(model, last_n_layers=None):\n",
    "    if last_n_layers is None:\n",
    "        for param in model.backbone.parameters():\n",
    "            param.requires_grad = True\n",
    "    else:\n",
    "        # Пример: получить список слоёв и разморозить последние N слоёв\n",
    "        layers = list(model.backbone.children())\n",
    "        for layer in layers[-last_n_layers:]:\n",
    "            for param in layer.parameters():\n",
    "                param.requires_grad = True"
   ]
  },
  {
   "cell_type": "code",
   "execution_count": 14,
   "id": "54cbef1a",
   "metadata": {},
   "outputs": [],
   "source": [
    "def train_model(model, train_loader, val_loader, device, num_epochs=5, frozen_epochs=3):\n",
    "    # Определяем критерий как CrossEntropyLoss для обеих задач\n",
    "    criterion = nn.CrossEntropyLoss()\n",
    "    \n",
    "    # Сначала обучаем только головы, поэтому параметры backbone заморожены\n",
    "    freeze_backbone(model)\n",
    "    optimizer = torch.optim.Adam(filter(lambda p: p.requires_grad, model.parameters()), lr=1e-3)\n",
    "    \n",
    "    train_losses = []\n",
    "    train_fruit_accs = []\n",
    "    train_fresh_accs = []\n",
    "    val_losses = []\n",
    "    val_fruit_accs = []\n",
    "    val_fresh_accs = []\n",
    "    \n",
    "    for epoch in range(num_epochs):\n",
    "        print(f\"Эпоха {epoch+1}/{num_epochs}\")\n",
    "        \n",
    "        # Если прошло заданное число эпох с замороженными слоями, размораживаем backbone и пересоздаём оптимизатор\n",
    "        if epoch == frozen_epochs:\n",
    "            print(\"Разморозка весов backbone...\")\n",
    "            unfreeze_backbone(model)\n",
    "            optimizer = torch.optim.Adam(model.parameters(), lr=1e-4)\n",
    "        \n",
    "        # --- Тренировочная фаза ---\n",
    "        model.train()\n",
    "        running_loss = 0.0\n",
    "        running_fruit_acc = 0.0\n",
    "        running_fresh_acc = 0.0\n",
    "        \n",
    "        for batch_idx, (imgs, fruit_labels, fresh_labels) in enumerate(tqdm(train_loader, desc=\"Train batches\")):\n",
    "            imgs = imgs.to(device)\n",
    "            fruit_labels = fruit_labels.to(device)\n",
    "            fresh_labels = fresh_labels.to(device)\n",
    "            \n",
    "            optimizer.zero_grad()\n",
    "            \n",
    "            fruit_logits, fresh_logits = model(imgs)\n",
    "            loss_fruit = criterion(fruit_logits, fruit_labels)\n",
    "            loss_fresh = criterion(fresh_logits, fresh_labels)\n",
    "            loss = loss_fruit + loss_fresh\n",
    "            \n",
    "            loss.backward()\n",
    "            optimizer.step()\n",
    "            \n",
    "            running_loss += loss.item()\n",
    "            \n",
    "            # Вычисляем точность для текущего батча\n",
    "            fruit_preds = torch.argmax(fruit_logits, dim=1)\n",
    "            fresh_preds = torch.argmax(fresh_logits, dim=1)\n",
    "            batch_fruit_acc = (fruit_preds == fruit_labels).float().mean().item()\n",
    "            batch_fresh_acc = (fresh_preds == fresh_labels).float().mean().item()\n",
    "            running_fruit_acc += batch_fruit_acc\n",
    "            running_fresh_acc += batch_fresh_acc\n",
    "        \n",
    "        epoch_loss = running_loss / len(train_loader)\n",
    "        epoch_fruit_acc = running_fruit_acc / len(train_loader)\n",
    "        epoch_fresh_acc = running_fresh_acc / len(train_loader)\n",
    "        train_losses.append(epoch_loss)\n",
    "        train_fruit_accs.append(epoch_fruit_acc)\n",
    "        train_fresh_accs.append(epoch_fresh_acc)\n",
    "        print(f\"Train Loss: {epoch_loss:.4f}, Fruit Acc: {epoch_fruit_acc:.4f}, Fresh Acc: {epoch_fresh_acc:.4f}\")\n",
    "        \n",
    "        # --- Валидационная фаза ---\n",
    "        model.eval()\n",
    "        val_running_loss = 0.0\n",
    "        val_running_fruit_acc = 0.0\n",
    "        val_running_fresh_acc = 0.0\n",
    "        \n",
    "        with torch.no_grad():\n",
    "            for imgs, fruit_labels, fresh_labels in tqdm(val_loader, desc=\"Val batches\"):\n",
    "                imgs = imgs.to(device)\n",
    "                fruit_labels = fruit_labels.to(device)\n",
    "                fresh_labels = fresh_labels.to(device)\n",
    "                \n",
    "                fruit_logits, fresh_logits = model(imgs)\n",
    "                loss_fruit = criterion(fruit_logits, fruit_labels)\n",
    "                loss_fresh = criterion(fresh_logits, fresh_labels)\n",
    "                loss = loss_fruit + loss_fresh\n",
    "                \n",
    "                val_running_loss += loss.item()\n",
    "                \n",
    "                fruit_preds = torch.argmax(fruit_logits, dim=1)\n",
    "                fresh_preds = torch.argmax(fresh_logits, dim=1)\n",
    "                val_running_fruit_acc += (fruit_preds == fruit_labels).float().mean().item()\n",
    "                val_running_fresh_acc += (fresh_preds == fresh_labels).float().mean().item()\n",
    "        \n",
    "        val_epoch_loss = val_running_loss / len(val_loader)\n",
    "        val_epoch_fruit_acc = val_running_fruit_acc / len(val_loader)\n",
    "        val_epoch_fresh_acc = val_running_fresh_acc / len(val_loader)\n",
    "        val_losses.append(val_epoch_loss)\n",
    "        val_fruit_accs.append(val_epoch_fruit_acc)\n",
    "        val_fresh_accs.append(val_epoch_fresh_acc)\n",
    "        print(f\"Val Loss: {val_epoch_loss:.4f}, Fruit Acc: {val_epoch_fruit_acc:.4f}, Fresh Acc: {val_epoch_fresh_acc:.4f}\\n\")\n",
    "    \n",
    "    return {\n",
    "        'train_loss': train_losses,\n",
    "        'train_fruit_acc': train_fruit_accs,\n",
    "        'train_fresh_acc': train_fresh_accs,\n",
    "        'val_loss': val_losses,\n",
    "        'val_fruit_acc': val_fruit_accs,\n",
    "        'val_fresh_acc': val_fresh_accs\n",
    "    }"
   ]
  },
  {
   "cell_type": "code",
   "execution_count": 15,
   "id": "68d14222",
   "metadata": {},
   "outputs": [],
   "source": [
    "def evaluate_model(model, test_loader, device):\n",
    "    model.eval()\n",
    "    all_fruit_labels = []\n",
    "    all_fruit_preds = []\n",
    "    all_fresh_labels = []\n",
    "    all_fresh_preds = []\n",
    "    \n",
    "    with torch.no_grad():\n",
    "        for imgs, fruit_labels, fresh_labels in tqdm(test_loader, desc=\"Test batches\"):\n",
    "            imgs = imgs.to(device)\n",
    "            fruit_labels = fruit_labels.to(device)\n",
    "            fresh_labels = fresh_labels.to(device)\n",
    "            \n",
    "            fruit_logits, fresh_logits = model(imgs)\n",
    "            fruit_preds = torch.argmax(fruit_logits, dim=1)\n",
    "            fresh_preds = torch.argmax(fresh_logits, dim=1)\n",
    "            \n",
    "            all_fruit_labels.extend(fruit_labels.cpu().numpy())\n",
    "            all_fruit_preds.extend(fruit_preds.cpu().numpy())\n",
    "            all_fresh_labels.extend(fresh_labels.cpu().numpy())\n",
    "            all_fresh_preds.extend(fresh_preds.cpu().numpy())\n",
    "    \n",
    "    # Расчёт метрик для классификации типа фрукта/овоща\n",
    "    fruit_acc = accuracy_score(all_fruit_labels, all_fruit_preds)\n",
    "    fruit_recall = recall_score(all_fruit_labels, all_fruit_preds, average='macro')\n",
    "    fruit_f1 = f1_score(all_fruit_labels, all_fruit_preds, average='macro')\n",
    "    fruit_cm = confusion_matrix(all_fruit_labels, all_fruit_preds)\n",
    "    \n",
    "    # Метрики для классификации свежести\n",
    "    fresh_acc = accuracy_score(all_fresh_labels, all_fresh_preds)\n",
    "    fresh_recall = recall_score(all_fresh_labels, all_fresh_preds, average='macro')\n",
    "    fresh_f1 = f1_score(all_fresh_labels, all_fresh_preds, average='macro')\n",
    "    fresh_cm = confusion_matrix(all_fresh_labels, all_fresh_preds)\n",
    "    \n",
    "    print(\"Метрики для классификации фруктов/овощей:\")\n",
    "    print(f\"Точность: {fruit_acc:.4f}\")\n",
    "    print(f\"Полнота: {fruit_recall:.4f}\")\n",
    "    print(f\"F1-score: {fruit_f1:.4f}\")\n",
    "    print(\"Матрица ошибок:\")\n",
    "    print(fruit_cm)\n",
    "    \n",
    "    print(\"\\nМетрики для классификации свежести:\")\n",
    "    print(f\"Точность: {fresh_acc:.4f}\")\n",
    "    print(f\"Полнота: {fresh_recall:.4f}\")\n",
    "    print(f\"F1-score: {fresh_f1:.4f}\")\n",
    "    print(\"Матрица ошибок:\")\n",
    "    print(fresh_cm)\n",
    "    \n",
    "    return {\n",
    "        'fruit': {'accuracy': fruit_acc, 'recall': fruit_recall, 'f1': fruit_f1, 'cm': fruit_cm},\n",
    "        'fresh': {'accuracy': fresh_acc, 'recall': fresh_recall, 'f1': fresh_f1, 'cm': fresh_cm}\n",
    "    }"
   ]
  },
  {
   "cell_type": "code",
   "execution_count": 17,
   "id": "79663641",
   "metadata": {},
   "outputs": [
    {
     "name": "stderr",
     "output_type": "stream",
     "text": [
      "Downloading: \"https://download.pytorch.org/models/resnet50-11ad3fa6.pth\" to C:\\Users\\Subbota/.cache\\torch\\hub\\checkpoints\\resnet50-11ad3fa6.pth\n",
      "100%|██████████| 97.8M/97.8M [00:01<00:00, 60.6MB/s]\n",
      "Downloading: \"https://download.pytorch.org/models/efficientnet_b3_rwightman-b3899882.pth\" to C:\\Users\\Subbota/.cache\\torch\\hub\\checkpoints\\efficientnet_b3_rwightman-b3899882.pth\n",
      "100%|██████████| 47.2M/47.2M [00:00<00:00, 80.6MB/s]\n",
      "Downloading: \"https://download.pytorch.org/models/mobilenet_v3_large-8738ca79.pth\" to C:\\Users\\Subbota/.cache\\torch\\hub\\checkpoints\\mobilenet_v3_large-8738ca79.pth\n",
      "100%|██████████| 21.1M/21.1M [00:00<00:00, 63.5MB/s]\n"
     ]
    }
   ],
   "source": [
    "num_fruit_classes = 4\n",
    "num_freshness_classes = 2\n",
    "\n",
    "#  Инициализируем backbone, например, ResNet50\n",
    "resnet50_backbone = models.resnet50(weights=models.ResNet50_Weights.IMAGENET1K_V2)\n",
    "efficientnet_b3_backbone = models.efficientnet_b3(weights=models.EfficientNet_B3_Weights.IMAGENET1K_V1)\n",
    "mobilenet_v3_backbone = models.mobilenet_v3_large(weights=models.MobileNet_V3_Large_Weights.IMAGENET1K_V1)"
   ]
  },
  {
   "cell_type": "code",
   "execution_count": 18,
   "id": "57b52424",
   "metadata": {},
   "outputs": [
    {
     "name": "stdout",
     "output_type": "stream",
     "text": [
      "Эпоха 1/5\n"
     ]
    },
    {
     "data": {
      "application/vnd.jupyter.widget-view+json": {
       "model_id": "c23fa49704434be7a20b99f736dad648",
       "version_major": 2,
       "version_minor": 0
      },
      "text/plain": [
       "Train batches:   0%|          | 0/101 [00:00<?, ?it/s]"
      ]
     },
     "metadata": {},
     "output_type": "display_data"
    },
    {
     "name": "stderr",
     "output_type": "stream",
     "text": [
      "d:\\Projects\\University courseworks\\ML5\\env\\Lib\\site-packages\\torchvision\\transforms\\functional.py:154: UserWarning: The given NumPy array is not writable, and PyTorch does not support non-writable tensors. This means writing to this tensor will result in undefined behavior. You may want to copy the array to protect its data or make it writable before converting it to a tensor. This type of warning will be suppressed for the rest of this program. (Triggered internally at C:\\actions-runner\\_work\\pytorch\\pytorch\\pytorch\\torch\\csrc\\utils\\tensor_numpy.cpp:209.)\n",
      "  img = torch.from_numpy(pic.transpose((2, 0, 1))).contiguous()\n"
     ]
    },
    {
     "name": "stdout",
     "output_type": "stream",
     "text": [
      "Train Loss: 0.2963, Fruit Acc: 0.9729, Fresh Acc: 0.9230\n"
     ]
    },
    {
     "data": {
      "application/vnd.jupyter.widget-view+json": {
       "model_id": "b53cc5e5de9b4615ac0e0422d730a160",
       "version_major": 2,
       "version_minor": 0
      },
      "text/plain": [
       "Val batches:   0%|          | 0/18 [00:00<?, ?it/s]"
      ]
     },
     "metadata": {},
     "output_type": "display_data"
    },
    {
     "name": "stdout",
     "output_type": "stream",
     "text": [
      "Val Loss: 0.1075, Fruit Acc: 0.9974, Fresh Acc: 0.9667\n",
      "\n",
      "Эпоха 2/5\n"
     ]
    },
    {
     "data": {
      "application/vnd.jupyter.widget-view+json": {
       "model_id": "3b423ad9f044433695de8ffddfb69939",
       "version_major": 2,
       "version_minor": 0
      },
      "text/plain": [
       "Train batches:   0%|          | 0/101 [00:00<?, ?it/s]"
      ]
     },
     "metadata": {},
     "output_type": "display_data"
    },
    {
     "name": "stdout",
     "output_type": "stream",
     "text": [
      "Train Loss: 0.1117, Fruit Acc: 0.9968, Fresh Acc: 0.9653\n"
     ]
    },
    {
     "data": {
      "application/vnd.jupyter.widget-view+json": {
       "model_id": "6107114fc2424e61877128d2f1ee146c",
       "version_major": 2,
       "version_minor": 0
      },
      "text/plain": [
       "Val batches:   0%|          | 0/18 [00:00<?, ?it/s]"
      ]
     },
     "metadata": {},
     "output_type": "display_data"
    },
    {
     "name": "stdout",
     "output_type": "stream",
     "text": [
      "Val Loss: 0.0981, Fruit Acc: 0.9991, Fresh Acc: 0.9606\n",
      "\n",
      "Эпоха 3/5\n"
     ]
    },
    {
     "data": {
      "application/vnd.jupyter.widget-view+json": {
       "model_id": "53b910f7261d4df38a880c3753b3e3c0",
       "version_major": 2,
       "version_minor": 0
      },
      "text/plain": [
       "Train batches:   0%|          | 0/101 [00:00<?, ?it/s]"
      ]
     },
     "metadata": {},
     "output_type": "display_data"
    },
    {
     "name": "stdout",
     "output_type": "stream",
     "text": [
      "Train Loss: 0.1010, Fruit Acc: 0.9985, Fresh Acc: 0.9659\n"
     ]
    },
    {
     "data": {
      "application/vnd.jupyter.widget-view+json": {
       "model_id": "f9933270dd364966bdf531b20a89b30c",
       "version_major": 2,
       "version_minor": 0
      },
      "text/plain": [
       "Val batches:   0%|          | 0/18 [00:00<?, ?it/s]"
      ]
     },
     "metadata": {},
     "output_type": "display_data"
    },
    {
     "name": "stdout",
     "output_type": "stream",
     "text": [
      "Val Loss: 0.0837, Fruit Acc: 0.9991, Fresh Acc: 0.9645\n",
      "\n",
      "Эпоха 4/5\n",
      "Разморозка весов backbone...\n"
     ]
    },
    {
     "data": {
      "application/vnd.jupyter.widget-view+json": {
       "model_id": "c11afd17d76b4a81b9ac9005b842c651",
       "version_major": 2,
       "version_minor": 0
      },
      "text/plain": [
       "Train batches:   0%|          | 0/101 [00:00<?, ?it/s]"
      ]
     },
     "metadata": {},
     "output_type": "display_data"
    },
    {
     "name": "stdout",
     "output_type": "stream",
     "text": [
      "Train Loss: 0.0588, Fruit Acc: 0.9994, Fresh Acc: 0.9797\n"
     ]
    },
    {
     "data": {
      "application/vnd.jupyter.widget-view+json": {
       "model_id": "bf1ce1129de746ab9ba013a174893689",
       "version_major": 2,
       "version_minor": 0
      },
      "text/plain": [
       "Val batches:   0%|          | 0/18 [00:00<?, ?it/s]"
      ]
     },
     "metadata": {},
     "output_type": "display_data"
    },
    {
     "name": "stdout",
     "output_type": "stream",
     "text": [
      "Val Loss: 0.0481, Fruit Acc: 1.0000, Fresh Acc: 0.9870\n",
      "\n",
      "Эпоха 5/5\n"
     ]
    },
    {
     "data": {
      "application/vnd.jupyter.widget-view+json": {
       "model_id": "75d462f81f044a2ea086dfd0b5f9b96f",
       "version_major": 2,
       "version_minor": 0
      },
      "text/plain": [
       "Train batches:   0%|          | 0/101 [00:00<?, ?it/s]"
      ]
     },
     "metadata": {},
     "output_type": "display_data"
    },
    {
     "name": "stdout",
     "output_type": "stream",
     "text": [
      "Train Loss: 0.0278, Fruit Acc: 0.9995, Fresh Acc: 0.9913\n"
     ]
    },
    {
     "data": {
      "application/vnd.jupyter.widget-view+json": {
       "model_id": "5f1c2814efe845db8ab6f98590887006",
       "version_major": 2,
       "version_minor": 0
      },
      "text/plain": [
       "Val batches:   0%|          | 0/18 [00:00<?, ?it/s]"
      ]
     },
     "metadata": {},
     "output_type": "display_data"
    },
    {
     "name": "stdout",
     "output_type": "stream",
     "text": [
      "Val Loss: 0.0336, Fruit Acc: 1.0000, Fresh Acc: 0.9870\n",
      "\n"
     ]
    },
    {
     "data": {
      "application/vnd.jupyter.widget-view+json": {
       "model_id": "70c4c298429841e89c6d49a6602b1bd1",
       "version_major": 2,
       "version_minor": 0
      },
      "text/plain": [
       "Test batches:   0%|          | 0/18 [00:00<?, ?it/s]"
      ]
     },
     "metadata": {},
     "output_type": "display_data"
    },
    {
     "name": "stdout",
     "output_type": "stream",
     "text": [
      "Метрики для классификации фруктов/овощей:\n",
      "Точность: 1.0000\n",
      "Полнота: 1.0000\n",
      "F1-score: 1.0000\n",
      "Матрица ошибок:\n",
      "[[297   0   0   0]\n",
      " [  0 297   0   0]\n",
      " [  0   0 241   0]\n",
      " [  0   0   0 297]]\n",
      "\n",
      "Метрики для классификации свежести:\n",
      "Точность: 0.9867\n",
      "Полнота: 0.9868\n",
      "F1-score: 0.9867\n",
      "Матрица ошибок:\n",
      "[[551   6]\n",
      " [  9 566]]\n"
     ]
    },
    {
     "data": {
      "image/png": "[encoded data removed]",
      "text/plain": [
       "<Figure size 1200x500 with 2 Axes>"
      ]
     },
     "metadata": {},
     "output_type": "display_data"
    }
   ],
   "source": [
    "# Инициализируем мультизадачную модель\n",
    "model_resnet = MultiTaskModel(resnet50_backbone, num_fruit_classes, num_freshness_classes)\n",
    "model_resnet = model_resnet.to(device)\n",
    "\n",
    "# Обучение модели (например, 5 эпох, первые 3 с замороженным backbone)\n",
    "history_resnet = train_model(model_resnet, train_loader, val_loader, device, num_epochs=5, frozen_epochs=3)\n",
    "\n",
    "# Оценка модели на тестовой выборке\n",
    "metrics_resnet = evaluate_model(model_resnet, val_loader, device)\n",
    "\n",
    "# Визуализация динамики обучения\n",
    "epochs = range(1, len(history_resnet['train_loss'])+1)\n",
    "plt.figure(figsize=(12, 5))\n",
    "plt.subplot(1, 2, 1)\n",
    "plt.plot(epochs, history_resnet['train_loss'], label='Train Loss')\n",
    "plt.plot(epochs, history_resnet['val_loss'], label='Val Loss')\n",
    "plt.xlabel('Эпоха')\n",
    "plt.ylabel('Loss')\n",
    "plt.legend()\n",
    "plt.title(\"Динамика Loss\")\n",
    "\n",
    "plt.subplot(1, 2, 2)\n",
    "plt.plot(epochs, history_resnet['train_fruit_acc'], label='Train Fruit Acc')\n",
    "plt.plot(epochs, history_resnet['val_fruit_acc'], label='Val Fruit Acc')\n",
    "plt.xlabel('Эпоха')\n",
    "plt.ylabel('Accuracy')\n",
    "plt.legend()\n",
    "plt.title(\"Динамика Accuracy (Fruit)\")\n",
    "\n",
    "plt.tight_layout()\n",
    "plt.show()"
   ]
  },
  {
   "cell_type": "code",
   "execution_count": 21,
   "id": "8fc0fa7b",
   "metadata": {},
   "outputs": [
    {
     "name": "stdout",
     "output_type": "stream",
     "text": [
      "Эпоха 1/5\n"
     ]
    },
    {
     "data": {
      "application/vnd.jupyter.widget-view+json": {
       "model_id": "dbe1a50a28ae4e76aac3d2be7008370b",
       "version_major": 2,
       "version_minor": 0
      },
      "text/plain": [
       "Train batches:   0%|          | 0/101 [00:00<?, ?it/s]"
      ]
     },
     "metadata": {},
     "output_type": "display_data"
    },
    {
     "name": "stdout",
     "output_type": "stream",
     "text": [
      "Train Loss: 0.4075, Fruit Acc: 0.9630, Fresh Acc: 0.8883\n"
     ]
    },
    {
     "data": {
      "application/vnd.jupyter.widget-view+json": {
       "model_id": "8c22bc90ee4342f9922e4b9ef861b46e",
       "version_major": 2,
       "version_minor": 0
      },
      "text/plain": [
       "Val batches:   0%|          | 0/18 [00:00<?, ?it/s]"
      ]
     },
     "metadata": {},
     "output_type": "display_data"
    },
    {
     "name": "stdout",
     "output_type": "stream",
     "text": [
      "Val Loss: 0.1778, Fruit Acc: 0.9892, Fresh Acc: 0.9445\n",
      "\n",
      "Эпоха 2/5\n"
     ]
    },
    {
     "data": {
      "application/vnd.jupyter.widget-view+json": {
       "model_id": "5bd04eaff1974b2a835dd535b2e0fb6d",
       "version_major": 2,
       "version_minor": 0
      },
      "text/plain": [
       "Train batches:   0%|          | 0/101 [00:00<?, ?it/s]"
      ]
     },
     "metadata": {},
     "output_type": "display_data"
    },
    {
     "name": "stdout",
     "output_type": "stream",
     "text": [
      "Train Loss: 0.2403, Fruit Acc: 0.9818, Fresh Acc: 0.9243\n"
     ]
    },
    {
     "data": {
      "application/vnd.jupyter.widget-view+json": {
       "model_id": "e84901e667044bb5b445ba8d235b389e",
       "version_major": 2,
       "version_minor": 0
      },
      "text/plain": [
       "Val batches:   0%|          | 0/18 [00:00<?, ?it/s]"
      ]
     },
     "metadata": {},
     "output_type": "display_data"
    },
    {
     "name": "stdout",
     "output_type": "stream",
     "text": [
      "Val Loss: 0.1517, Fruit Acc: 0.9944, Fresh Acc: 0.9467\n",
      "\n",
      "Эпоха 3/5\n"
     ]
    },
    {
     "data": {
      "application/vnd.jupyter.widget-view+json": {
       "model_id": "ec663881cff2493b84829a48b0e2e188",
       "version_major": 2,
       "version_minor": 0
      },
      "text/plain": [
       "Train batches:   0%|          | 0/101 [00:00<?, ?it/s]"
      ]
     },
     "metadata": {},
     "output_type": "display_data"
    },
    {
     "name": "stdout",
     "output_type": "stream",
     "text": [
      "Train Loss: 0.1843, Fruit Acc: 0.9847, Fresh Acc: 0.9482\n"
     ]
    },
    {
     "data": {
      "application/vnd.jupyter.widget-view+json": {
       "model_id": "80ada030524e48f18afb58027a12037b",
       "version_major": 2,
       "version_minor": 0
      },
      "text/plain": [
       "Val batches:   0%|          | 0/18 [00:00<?, ?it/s]"
      ]
     },
     "metadata": {},
     "output_type": "display_data"
    },
    {
     "name": "stdout",
     "output_type": "stream",
     "text": [
      "Val Loss: 0.1069, Fruit Acc: 0.9961, Fresh Acc: 0.9662\n",
      "\n",
      "Эпоха 4/5\n",
      "Разморозка весов backbone...\n"
     ]
    },
    {
     "data": {
      "application/vnd.jupyter.widget-view+json": {
       "model_id": "c91258c34b334bf983d95633a179ce6a",
       "version_major": 2,
       "version_minor": 0
      },
      "text/plain": [
       "Train batches:   0%|          | 0/101 [00:00<?, ?it/s]"
      ]
     },
     "metadata": {},
     "output_type": "display_data"
    },
    {
     "name": "stdout",
     "output_type": "stream",
     "text": [
      "Train Loss: 0.1040, Fruit Acc: 0.9929, Fresh Acc: 0.9675\n"
     ]
    },
    {
     "data": {
      "application/vnd.jupyter.widget-view+json": {
       "model_id": "8241b9e69a3341bea450dde28fb4a5b4",
       "version_major": 2,
       "version_minor": 0
      },
      "text/plain": [
       "Val batches:   0%|          | 0/18 [00:00<?, ?it/s]"
      ]
     },
     "metadata": {},
     "output_type": "display_data"
    },
    {
     "name": "stdout",
     "output_type": "stream",
     "text": [
      "Val Loss: 0.0521, Fruit Acc: 1.0000, Fresh Acc: 0.9814\n",
      "\n",
      "Эпоха 5/5\n"
     ]
    },
    {
     "data": {
      "application/vnd.jupyter.widget-view+json": {
       "model_id": "ce70e93155114511a7236de03c116d57",
       "version_major": 2,
       "version_minor": 0
      },
      "text/plain": [
       "Train batches:   0%|          | 0/101 [00:00<?, ?it/s]"
      ]
     },
     "metadata": {},
     "output_type": "display_data"
    },
    {
     "name": "stdout",
     "output_type": "stream",
     "text": [
      "Train Loss: 0.0590, Fruit Acc: 0.9975, Fresh Acc: 0.9789\n"
     ]
    },
    {
     "data": {
      "application/vnd.jupyter.widget-view+json": {
       "model_id": "7d1880b5fdba482aaa83f40f31908107",
       "version_major": 2,
       "version_minor": 0
      },
      "text/plain": [
       "Val batches:   0%|          | 0/18 [00:00<?, ?it/s]"
      ]
     },
     "metadata": {},
     "output_type": "display_data"
    },
    {
     "name": "stdout",
     "output_type": "stream",
     "text": [
      "Val Loss: 0.0336, Fruit Acc: 1.0000, Fresh Acc: 0.9853\n",
      "\n"
     ]
    },
    {
     "data": {
      "application/vnd.jupyter.widget-view+json": {
       "model_id": "db4f0a30192547b7a9b2c59bf177e907",
       "version_major": 2,
       "version_minor": 0
      },
      "text/plain": [
       "Test batches:   0%|          | 0/18 [00:00<?, ?it/s]"
      ]
     },
     "metadata": {},
     "output_type": "display_data"
    },
    {
     "name": "stdout",
     "output_type": "stream",
     "text": [
      "Метрики для классификации фруктов/овощей:\n",
      "Точность: 1.0000\n",
      "Полнота: 1.0000\n",
      "F1-score: 1.0000\n",
      "Матрица ошибок:\n",
      "[[297   0   0   0]\n",
      " [  0 297   0   0]\n",
      " [  0   0 241   0]\n",
      " [  0   0   0 297]]\n",
      "\n",
      "Метрики для классификации свежести:\n",
      "Точность: 0.9859\n",
      "Полнота: 0.9858\n",
      "F1-score: 0.9859\n",
      "Матрица ошибок:\n",
      "[[548   9]\n",
      " [  7 568]]\n"
     ]
    },
    {
     "data": {
      "image/png": "[encoded data removed]",
      "text/plain": [
       "<Figure size 1200x500 with 2 Axes>"
      ]
     },
     "metadata": {},
     "output_type": "display_data"
    }
   ],
   "source": [
    "# Инициализируем мультизадачную модель\n",
    "model_efficientnet = MultiTaskModel(efficientnet_b3_backbone, num_fruit_classes, num_freshness_classes)\n",
    "model_efficientnet = model_efficientnet.to(device)\n",
    "\n",
    "# Обучение модели (например, 5 эпох, первые 3 с замороженным backbone)\n",
    "history_efficientnet = train_model(model_efficientnet, train_loader, val_loader, device, num_epochs=5, frozen_epochs=3)\n",
    "\n",
    "# Оценка модели на тестовой выборке\n",
    "metrics_efficientnet = evaluate_model(model_efficientnet, val_loader, device)\n",
    "\n",
    "# Визуализация динамики обучения\n",
    "epochs = range(1, len(history_efficientnet['train_loss'])+1)\n",
    "plt.figure(figsize=(12, 5))\n",
    "plt.subplot(1, 2, 1)\n",
    "plt.plot(epochs, history_efficientnet['train_loss'], label='Train Loss')\n",
    "plt.plot(epochs, history_efficientnet['val_loss'], label='Val Loss')\n",
    "plt.xlabel('Эпоха')\n",
    "plt.ylabel('Loss')\n",
    "plt.legend()\n",
    "plt.title(\"Динамика Loss\")\n",
    "\n",
    "plt.subplot(1, 2, 2)\n",
    "plt.plot(epochs, history_efficientnet['train_fruit_acc'], label='Train Fruit Acc')\n",
    "plt.plot(epochs, history_efficientnet['val_fruit_acc'], label='Val Fruit Acc')\n",
    "plt.xlabel('Эпоха')\n",
    "plt.ylabel('Accuracy')\n",
    "plt.legend()\n",
    "plt.title(\"Динамика Accuracy (Fruit)\")\n",
    "\n",
    "plt.tight_layout()\n",
    "plt.show()"
   ]
  },
  {
   "cell_type": "code",
   "execution_count": 27,
   "id": "d3cd1cc2",
   "metadata": {},
   "outputs": [
    {
     "name": "stdout",
     "output_type": "stream",
     "text": [
      "Эпоха 1/5\n"
     ]
    },
    {
     "data": {
      "application/vnd.jupyter.widget-view+json": {
       "model_id": "7c0147675cfe44f398d04fd639203c4b",
       "version_major": 2,
       "version_minor": 0
      },
      "text/plain": [
       "Train batches:   0%|          | 0/101 [00:00<?, ?it/s]"
      ]
     },
     "metadata": {},
     "output_type": "display_data"
    },
    {
     "name": "stdout",
     "output_type": "stream",
     "text": [
      "Train Loss: 0.3662, Fruit Acc: 0.9651, Fresh Acc: 0.8900\n"
     ]
    },
    {
     "data": {
      "application/vnd.jupyter.widget-view+json": {
       "model_id": "a8b28d1c202848ed93d5e647b7645b1d",
       "version_major": 2,
       "version_minor": 0
      },
      "text/plain": [
       "Val batches:   0%|          | 0/18 [00:00<?, ?it/s]"
      ]
     },
     "metadata": {},
     "output_type": "display_data"
    },
    {
     "name": "stdout",
     "output_type": "stream",
     "text": [
      "Val Loss: 0.4238, Fruit Acc: 0.9289, Fresh Acc: 0.8778\n",
      "\n",
      "Эпоха 2/5\n"
     ]
    },
    {
     "data": {
      "application/vnd.jupyter.widget-view+json": {
       "model_id": "a9adeaf62fb648ab84150355dbfa5173",
       "version_major": 2,
       "version_minor": 0
      },
      "text/plain": [
       "Train batches:   0%|          | 0/101 [00:00<?, ?it/s]"
      ]
     },
     "metadata": {},
     "output_type": "display_data"
    },
    {
     "name": "stdout",
     "output_type": "stream",
     "text": [
      "Train Loss: 0.1644, Fruit Acc: 0.9936, Fresh Acc: 0.9438\n"
     ]
    },
    {
     "data": {
      "application/vnd.jupyter.widget-view+json": {
       "model_id": "fe690eb8c9324e698edad394799a550e",
       "version_major": 2,
       "version_minor": 0
      },
      "text/plain": [
       "Val batches:   0%|          | 0/18 [00:00<?, ?it/s]"
      ]
     },
     "metadata": {},
     "output_type": "display_data"
    },
    {
     "name": "stdout",
     "output_type": "stream",
     "text": [
      "Val Loss: 0.1755, Fruit Acc: 0.9905, Fresh Acc: 0.9332\n",
      "\n",
      "Эпоха 3/5\n"
     ]
    },
    {
     "data": {
      "application/vnd.jupyter.widget-view+json": {
       "model_id": "3fc8cbcaf6c347149da095b0e0e55a47",
       "version_major": 2,
       "version_minor": 0
      },
      "text/plain": [
       "Train batches:   0%|          | 0/101 [00:00<?, ?it/s]"
      ]
     },
     "metadata": {},
     "output_type": "display_data"
    },
    {
     "name": "stdout",
     "output_type": "stream",
     "text": [
      "Train Loss: 0.1056, Fruit Acc: 0.9961, Fresh Acc: 0.9619\n"
     ]
    },
    {
     "data": {
      "application/vnd.jupyter.widget-view+json": {
       "model_id": "d9716a9cdc6643e39b19a273b426e965",
       "version_major": 2,
       "version_minor": 0
      },
      "text/plain": [
       "Val batches:   0%|          | 0/18 [00:00<?, ?it/s]"
      ]
     },
     "metadata": {},
     "output_type": "display_data"
    },
    {
     "name": "stdout",
     "output_type": "stream",
     "text": [
      "Val Loss: 0.1348, Fruit Acc: 0.9922, Fresh Acc: 0.9528\n",
      "\n",
      "Эпоха 4/5\n",
      "Разморозка весов backbone...\n"
     ]
    },
    {
     "data": {
      "application/vnd.jupyter.widget-view+json": {
       "model_id": "5e1ab83e676c4d48b4a6ca88f769f7b5",
       "version_major": 2,
       "version_minor": 0
      },
      "text/plain": [
       "Train batches:   0%|          | 0/101 [00:00<?, ?it/s]"
      ]
     },
     "metadata": {},
     "output_type": "display_data"
    },
    {
     "name": "stdout",
     "output_type": "stream",
     "text": [
      "Train Loss: 0.0733, Fruit Acc: 0.9991, Fresh Acc: 0.9748\n"
     ]
    },
    {
     "data": {
      "application/vnd.jupyter.widget-view+json": {
       "model_id": "440bffb9e5d54511b5ec22177113bff0",
       "version_major": 2,
       "version_minor": 0
      },
      "text/plain": [
       "Val batches:   0%|          | 0/18 [00:00<?, ?it/s]"
      ]
     },
     "metadata": {},
     "output_type": "display_data"
    },
    {
     "name": "stdout",
     "output_type": "stream",
     "text": [
      "Val Loss: 0.0569, Fruit Acc: 0.9991, Fresh Acc: 0.9775\n",
      "\n",
      "Эпоха 5/5\n"
     ]
    },
    {
     "data": {
      "application/vnd.jupyter.widget-view+json": {
       "model_id": "2bc6a3d3eda14af2aedb33df04c6309f",
       "version_major": 2,
       "version_minor": 0
      },
      "text/plain": [
       "Train batches:   0%|          | 0/101 [00:00<?, ?it/s]"
      ]
     },
     "metadata": {},
     "output_type": "display_data"
    },
    {
     "name": "stdout",
     "output_type": "stream",
     "text": [
      "Train Loss: 0.0310, Fruit Acc: 0.9997, Fresh Acc: 0.9895\n"
     ]
    },
    {
     "data": {
      "application/vnd.jupyter.widget-view+json": {
       "model_id": "396490b6e601405bb828550dec699d71",
       "version_major": 2,
       "version_minor": 0
      },
      "text/plain": [
       "Val batches:   0%|          | 0/18 [00:00<?, ?it/s]"
      ]
     },
     "metadata": {},
     "output_type": "display_data"
    },
    {
     "name": "stdout",
     "output_type": "stream",
     "text": [
      "Val Loss: 0.0357, Fruit Acc: 0.9991, Fresh Acc: 0.9836\n",
      "\n"
     ]
    },
    {
     "data": {
      "application/vnd.jupyter.widget-view+json": {
       "model_id": "d278122561ea48508c577e9f51c46f6f",
       "version_major": 2,
       "version_minor": 0
      },
      "text/plain": [
       "Test batches:   0%|          | 0/18 [00:00<?, ?it/s]"
      ]
     },
     "metadata": {},
     "output_type": "display_data"
    },
    {
     "name": "stdout",
     "output_type": "stream",
     "text": [
      "Метрики для классификации фруктов/овощей:\n",
      "Точность: 0.9991\n",
      "Полнота: 0.9992\n",
      "F1-score: 0.9991\n",
      "Матрица ошибок:\n",
      "[[297   0   0   0]\n",
      " [  0 297   0   0]\n",
      " [  0   0 241   0]\n",
      " [  0   0   1 296]]\n",
      "\n",
      "Метрики для классификации свежести:\n",
      "Точность: 0.9841\n",
      "Полнота: 0.9842\n",
      "F1-score: 0.9841\n",
      "Матрица ошибок:\n",
      "[[553   4]\n",
      " [ 14 561]]\n"
     ]
    },
    {
     "data": {
      "image/png": "[encoded data removed]",
      "text/plain": [
       "<Figure size 1200x500 with 2 Axes>"
      ]
     },
     "metadata": {},
     "output_type": "display_data"
    }
   ],
   "source": [
    "# Инициализируем мультизадачную модель\n",
    "model_mobilenet = MultiTaskModel(mobilenet_v3_backbone, num_fruit_classes, num_freshness_classes)\n",
    "model_mobilenet = model_mobilenet.to(device)\n",
    "\n",
    "# Обучение модели (например, 5 эпох, первые 3 с замороженным backbone)\n",
    "history_mobilenet = train_model(model_mobilenet, train_loader, val_loader, device, num_epochs=5, frozen_epochs=3)\n",
    "\n",
    "# Оценка модели на тестовой выборке\n",
    "metrics_mobilenet = evaluate_model(model_mobilenet, val_loader, device)\n",
    "\n",
    "# Визуализация динамики обучения\n",
    "epochs = range(1, len(history_mobilenet['train_loss'])+1)\n",
    "plt.figure(figsize=(12, 5))\n",
    "plt.subplot(1, 2, 1)\n",
    "plt.plot(epochs, history_mobilenet['train_loss'], label='Train Loss')\n",
    "plt.plot(epochs, history_mobilenet['val_loss'], label='Val Loss')\n",
    "plt.xlabel('Эпоха')\n",
    "plt.ylabel('Loss')\n",
    "plt.legend()\n",
    "plt.title(\"Динамика Loss\")\n",
    "\n",
    "plt.subplot(1, 2, 2)\n",
    "plt.plot(epochs, history_mobilenet['train_fruit_acc'], label='Train Fruit Acc')\n",
    "plt.plot(epochs, history_mobilenet['val_fruit_acc'], label='Val Fruit Acc')\n",
    "plt.xlabel('Эпоха')\n",
    "plt.ylabel('Accuracy')\n",
    "plt.legend()\n",
    "plt.title(\"Динамика Accuracy (Fruit)\")\n",
    "\n",
    "plt.tight_layout()\n",
    "plt.show()"
   ]
  }
 ],
 "metadata": {
  "kernelspec": {
   "display_name": "env",
   "language": "python",
   "name": "python3"
  },
  "language_info": {
   "codemirror_mode": {
    "name": "ipython",
    "version": 3
   },
   "file_extension": ".py",
   "mimetype": "text/x-python",
   "name": "python",
   "nbconvert_exporter": "python",
   "pygments_lexer": "ipython3",
   "version": "3.11.5"
  }
 },
 "nbformat": 4,
 "nbformat_minor": 5
}
