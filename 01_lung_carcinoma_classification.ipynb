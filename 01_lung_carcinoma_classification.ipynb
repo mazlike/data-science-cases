{
 "cells": [
  {
   "cell_type": "code",
   "execution_count": 2,
   "id": "c19be944-c759-4d7b-a2ac-557a828c8f1c",
   "metadata": {
    "execution": {
     "iopub.execute_input": "2024-12-09T14:20:28.344291Z",
     "iopub.status.busy": "2024-12-09T14:20:28.343125Z",
     "iopub.status.idle": "2024-12-09T14:20:28.360156Z",
     "shell.execute_reply": "2024-12-09T14:20:28.358949Z",
     "shell.execute_reply.started": "2024-12-09T14:20:28.344244Z"
    },
    "tags": []
   },
   "outputs": [
    {
     "data": {
      "text/plain": [
       "<contextlib.ExitStack at 0x7ffa34147b80>"
      ]
     },
     "execution_count": 2,
     "metadata": {},
     "output_type": "execute_result"
    }
   ],
   "source": [
    "from __future__ import print_function, division\n",
    "import torch\n",
    "import torch.nn as nn\n",
    "import torch.optim as optim\n",
    "from torch.optim import lr_scheduler\n",
    "import numpy as np\n",
    "import matplotlib.pyplot as plt\n",
    "import torchvision\n",
    "from torchvision import datasets, models\n",
    "import torchvision.transforms as transforms\n",
    "import matplotlib.pyplot as plt\n",
    "import time\n",
    "import os\n",
    "import copy\n",
    "import torch.nn as nn\n",
    "import torch.nn.functional as F\n",
    "import torch.optim as optim\n",
    "from torch.autograd import Variable\n",
    "import torch.onnx\n",
    "import torchvision\n",
    "%matplotlib inline\n",
    "plt.ion()"
   ]
  },
  {
   "cell_type": "code",
   "execution_count": 3,
   "id": "e1070278-58d7-4f27-87ba-98235f644ab4",
   "metadata": {
    "execution": {
     "iopub.execute_input": "2024-12-09T14:20:29.029482Z",
     "iopub.status.busy": "2024-12-09T14:20:29.028466Z",
     "iopub.status.idle": "2024-12-09T14:22:28.067944Z",
     "shell.execute_reply": "2024-12-09T14:22:28.067098Z",
     "shell.execute_reply.started": "2024-12-09T14:20:29.029439Z"
    },
    "tags": []
   },
   "outputs": [],
   "source": [
    "import zipfile\n",
    "with zipfile.ZipFile('/home/jupyter/datasphere/project/lung.zip', 'r') as zipref:\n",
    "    zipref.extractall('/home/jupyter/datasphere/project/dataset')"
   ]
  },
  {
   "cell_type": "code",
   "execution_count": 5,
   "id": "4bd8e479-eabb-4eb8-b474-23ba0150793a",
   "metadata": {
    "execution": {
     "iopub.execute_input": "2024-12-09T15:34:59.396887Z",
     "iopub.status.busy": "2024-12-09T15:34:59.395864Z",
     "iopub.status.idle": "2024-12-09T15:34:59.424116Z",
     "shell.execute_reply": "2024-12-09T15:34:59.423242Z",
     "shell.execute_reply.started": "2024-12-09T15:34:59.396842Z"
    },
    "tags": []
   },
   "outputs": [],
   "source": [
    "classes = (\"lung_aca\", \"lung_n\", \"lung_scc\")\n",
    "\n",
    "def image_shower(images, labels, n=3):\n",
    "    plt.figure(figsize=(12, 12))\n",
    "    for i, image in enumerate(images[:n]):\n",
    "        plt.subplot(n, n, i + 1)\n",
    "        image = images / 2 + 0.5\n",
    "        plt.imshow(image.numpy().transpose((1, 2, 0)).squeeze())\n",
    "        print(\"Real Labels: \", ' '.join('%5s' %  classes[label] for label in labels[:n]))\n",
    "PATH=\"/home/jupyter/datasphere/project/dataset\""
   ]
  },
  {
   "cell_type": "code",
   "execution_count": 6,
   "id": "b6b9646b-3dec-4389-b17b-425a35cdca2c",
   "metadata": {
    "execution": {
     "iopub.execute_input": "2024-12-09T15:34:59.811121Z",
     "iopub.status.busy": "2024-12-09T15:34:59.809957Z",
     "iopub.status.idle": "2024-12-09T15:35:01.562860Z",
     "shell.execute_reply": "2024-12-09T15:35:01.561849Z",
     "shell.execute_reply.started": "2024-12-09T15:34:59.811080Z"
    },
    "tags": []
   },
   "outputs": [
    {
     "name": "stdout",
     "output_type": "stream",
     "text": [
      "Classes: ['lung_aca', 'lung_n', 'lung_scc']\n",
      "Train set size: 12000\n",
      "Test set size: 3000\n"
     ]
    }
   ],
   "source": [
    "import os\n",
    "import random\n",
    "from torch.utils.data import DataLoader, Subset\n",
    "\n",
    "# Преобразования для изображений\n",
    "data_transforms = transforms.Compose([\n",
    "    transforms.RandomResizedCrop(64),\n",
    "    transforms.ToTensor(),\n",
    "    transforms.Normalize([0.5, 0.5, 0.5], [0.5, 0.5, 0.5])\n",
    "])\n",
    "\n",
    "# Загружаем датасет (ImageFolder ожидает, что папки организованы по классам)\n",
    "full_dataset = datasets.ImageFolder(PATH, transform=data_transforms)\n",
    "\n",
    "# Получаем индексы всех изображений и распределяем их по классам\n",
    "class_to_indices = {class_name: [] for class_name in full_dataset.classes}\n",
    "\n",
    "# Наполняем class_to_indices (распределяем индексы по классам)\n",
    "for idx, (_, class_idx) in enumerate(full_dataset.samples):\n",
    "    class_name = full_dataset.classes[class_idx]\n",
    "    class_to_indices[class_name].append(idx)\n",
    "\n",
    "# Проверка: убедимся, что в каждом классе достаточно изображений\n",
    "for class_name, indices in class_to_indices.items():\n",
    "    if len(indices) != 5000:\n",
    "        raise ValueError(f\"В классе '{class_name}' количество изображений не равно 5000.\")\n",
    "\n",
    "# Формируем тренировочные и тестовые индексы для каждого класса\n",
    "train_indices = []\n",
    "test_indices = []\n",
    "\n",
    "for class_name, indices in class_to_indices.items():\n",
    "    # Перемешиваем индексы для случайного разделения\n",
    "    random.shuffle(indices)\n",
    "    # Берем первые 4000 для тренировки и следующие 1000 для теста\n",
    "    train_indices.extend(indices[:4000])\n",
    "    test_indices.extend(indices[4000:4000 + 1000])\n",
    "\n",
    "# Создаем тренировочные и тестовые датасеты\n",
    "train_dataset = Subset(full_dataset, train_indices)\n",
    "test_dataset = Subset(full_dataset, test_indices)\n",
    "\n",
    "# Создаем DataLoader для обучения и тестирования\n",
    "train_loader = DataLoader(train_dataset, batch_size=4, shuffle=True, num_workers=4)\n",
    "test_loader = DataLoader(test_dataset, batch_size=4, shuffle=True, num_workers=4)\n",
    "\n",
    "# Классы\n",
    "classes = full_dataset.classes\n",
    "\n",
    "print('Classes:', classes)\n",
    "print('Train set size:', len(train_dataset))  # 12000\n",
    "print('Test set size:', len(test_dataset))  # 3000"
   ]
  },
  {
   "cell_type": "code",
   "execution_count": 7,
   "id": "fdcec198-fd23-4eb6-8a50-c1b647240d87",
   "metadata": {
    "execution": {
     "iopub.execute_input": "2024-12-09T15:35:01.565572Z",
     "iopub.status.busy": "2024-12-09T15:35:01.564347Z",
     "iopub.status.idle": "2024-12-09T15:35:02.433050Z",
     "shell.execute_reply": "2024-12-09T15:35:02.431817Z",
     "shell.execute_reply.started": "2024-12-09T15:35:01.565534Z"
    },
    "tags": []
   },
   "outputs": [
    {
     "data": {
      "image/png": "[encoded data removed]",
      "text/plain": [
       "<Figure size 640x480 with 1 Axes>"
      ]
     },
     "metadata": {},
     "output_type": "display_data"
    },
    {
     "name": "stdout",
     "output_type": "stream",
     "text": [
      "lung_scc lung_n lung_scc lung_scc\n"
     ]
    }
   ],
   "source": [
    "def imshow(img):\n",
    "    img = img / 2 + 0.5  # Denormalize the image\n",
    "    np_img = img.numpy()  # Convert the tensor to numpy\n",
    "    plt.imshow(np.transpose(np_img, (1, 2, 0)))  # Transpose for proper display\n",
    "    plt.show()\n",
    "\n",
    "# Get a batch of images and labels\n",
    "dataiter = iter(train_loader)  # Use the train_loader instead of train_dataset\n",
    "images, labels = next(dataiter)\n",
    "\n",
    "# Display the images\n",
    "imshow(torchvision.utils.make_grid(images))\n",
    "\n",
    "# Print the class names of the images in the batch\n",
    "print(' '.join([classes[labels[j]] for j in range(len(labels))]))\n"
   ]
  },
  {
   "cell_type": "code",
   "execution_count": 8,
   "id": "25749683-f047-498f-896b-711d0a39ac6e",
   "metadata": {
    "execution": {
     "iopub.execute_input": "2024-12-09T15:35:03.564950Z",
     "iopub.status.busy": "2024-12-09T15:35:03.563637Z",
     "iopub.status.idle": "2024-12-09T15:35:03.588111Z",
     "shell.execute_reply": "2024-12-09T15:35:03.587202Z",
     "shell.execute_reply.started": "2024-12-09T15:35:03.564889Z"
    },
    "tags": []
   },
   "outputs": [
    {
     "name": "stdout",
     "output_type": "stream",
     "text": [
      "Net(\n",
      "  (conv1): Conv2d(3, 6, kernel_size=(5, 5), stride=(1, 1))\n",
      "  (conv2): Conv2d(6, 16, kernel_size=(5, 5), stride=(1, 1))\n",
      "  (pool): MaxPool2d(kernel_size=2, stride=2, padding=0, dilation=1, ceil_mode=False)\n",
      "  (fc1): Linear(in_features=2704, out_features=120, bias=True)\n",
      "  (fc2): Linear(in_features=120, out_features=84, bias=True)\n",
      "  (fc3): Linear(in_features=84, out_features=3, bias=True)\n",
      ")\n"
     ]
    }
   ],
   "source": [
    "class Net(nn.Module):\n",
    "    def __init__(self):\n",
    "        super(Net, self).__init__()\n",
    "        self.conv1 = nn.Conv2d(3, 6, 5) #сверточный фильтр, выделять яркие моменты\n",
    "        self.conv2 = nn.Conv2d(6, 16, 5)\n",
    "        self.pool = nn.MaxPool2d(2, 2) #оставить только важное\n",
    "        self.fc1 = nn.Linear(16 * 13 * 13, 120) #полносвязный слой\n",
    "        self.fc2 = nn.Linear(120, 84)\n",
    "        self.fc3 = nn.Linear(84, 3)\n",
    "\n",
    "    def forward(self, x):\n",
    "        x = self.pool(F.relu(self.conv1(x))) #функция активации нейронов\n",
    "        x = self.pool(F.relu(self.conv2(x)))\n",
    "        x = x.view(-1, 16 * 13 * 13)\n",
    "        x = F.relu(self.fc1(x))\n",
    "        x = F.relu(self.fc2(x))\n",
    "        return x\n",
    "\n",
    "net = Net()\n",
    "print(net)"
   ]
  },
  {
   "cell_type": "code",
   "execution_count": 9,
   "id": "3cdbce99-15f0-4ed1-9963-8cdddcc4cebd",
   "metadata": {
    "execution": {
     "iopub.execute_input": "2024-12-09T15:35:04.564341Z",
     "iopub.status.busy": "2024-12-09T15:35:04.563188Z",
     "iopub.status.idle": "2024-12-09T15:35:04.628388Z",
     "shell.execute_reply": "2024-12-09T15:35:04.627439Z",
     "shell.execute_reply.started": "2024-12-09T15:35:04.564298Z"
    },
    "tags": []
   },
   "outputs": [
    {
     "name": "stdout",
     "output_type": "stream",
     "text": [
      "DeepCNN(\n",
      "  (conv1): Conv2d(3, 32, kernel_size=(3, 3), stride=(1, 1), padding=(1, 1))\n",
      "  (bn1): BatchNorm2d(32, eps=1e-05, momentum=0.1, affine=True, track_running_stats=True)\n",
      "  (conv2): Conv2d(32, 64, kernel_size=(3, 3), stride=(1, 1), padding=(1, 1))\n",
      "  (bn2): BatchNorm2d(64, eps=1e-05, momentum=0.1, affine=True, track_running_stats=True)\n",
      "  (conv3): Conv2d(64, 128, kernel_size=(3, 3), stride=(1, 1), padding=(1, 1))\n",
      "  (bn3): BatchNorm2d(128, eps=1e-05, momentum=0.1, affine=True, track_running_stats=True)\n",
      "  (pool): MaxPool2d(kernel_size=2, stride=2, padding=0, dilation=1, ceil_mode=False)\n",
      "  (fc1): Linear(in_features=8192, out_features=256, bias=True)\n",
      "  (dropout): Dropout(p=0.5, inplace=False)\n",
      "  (fc2): Linear(in_features=256, out_features=3, bias=True)\n",
      ")\n"
     ]
    }
   ],
   "source": [
    "class DeepCNN(nn.Module):\n",
    "    def __init__(self):\n",
    "        super(DeepCNN, self).__init__()\n",
    "        self.conv1 = nn.Conv2d(3, 32, 3, padding=1)\n",
    "        self.bn1 = nn.BatchNorm2d(32)  # Нормализация по батчу\n",
    "        self.conv2 = nn.Conv2d(32, 64, 3, padding=1)\n",
    "        self.bn2 = nn.BatchNorm2d(64)\n",
    "        self.conv3 = nn.Conv2d(64, 128, 3, padding=1)\n",
    "        self.bn3 = nn.BatchNorm2d(128)\n",
    "        self.pool = nn.MaxPool2d(2, 2)\n",
    "        self.fc1 = nn.Linear(128 * 8 * 8, 256)\n",
    "        self.dropout = nn.Dropout(0.5)  # Отсев для регуляризации\n",
    "        self.fc2 = nn.Linear(256, len(classes))\n",
    "\n",
    "    def forward(self, x):\n",
    "        x = self.pool(F.relu(self.bn1(self.conv1(x))))  # Свертка → BatchNorm → ReLU → Пуллинг\n",
    "        x = self.pool(F.relu(self.bn2(self.conv2(x))))\n",
    "        x = self.pool(F.relu(self.bn3(self.conv3(x))))\n",
    "        x = x.view(-1, 128 * 8 * 8)\n",
    "        x = F.relu(self.fc1(x))  # Полносвязный слой → ReLU\n",
    "        x = self.dropout(x)  # Dropout\n",
    "        x = self.fc2(x)  # Выходной слой\n",
    "        return x\n",
    "\n",
    "deepcnn = DeepCNN()\n",
    "print(deepcnn)"
   ]
  },
  {
   "cell_type": "code",
   "execution_count": 10,
   "id": "4a12a4e6-a159-4e84-a558-1f8e5b3921ec",
   "metadata": {
    "execution": {
     "iopub.execute_input": "2024-12-09T15:35:05.297443Z",
     "iopub.status.busy": "2024-12-09T15:35:05.295964Z",
     "iopub.status.idle": "2024-12-09T15:35:05.362642Z",
     "shell.execute_reply": "2024-12-09T15:35:05.361770Z",
     "shell.execute_reply.started": "2024-12-09T15:35:05.297397Z"
    },
    "tags": []
   },
   "outputs": [
    {
     "name": "stdout",
     "output_type": "stream",
     "text": [
      "CNNWithDropout(\n",
      "  (conv1): Conv2d(3, 32, kernel_size=(3, 3), stride=(1, 1), padding=(1, 1))\n",
      "  (conv2): Conv2d(32, 64, kernel_size=(3, 3), stride=(1, 1), padding=(1, 1))\n",
      "  (pool): MaxPool2d(kernel_size=2, stride=2, padding=0, dilation=1, ceil_mode=False)\n",
      "  (dropout): Dropout(p=0.5, inplace=False)\n",
      "  (fc1): Linear(in_features=16384, out_features=128, bias=True)\n",
      "  (fc2): Linear(in_features=128, out_features=3, bias=True)\n",
      ")\n"
     ]
    }
   ],
   "source": [
    "class CNNWithDropout(nn.Module):\n",
    "    def __init__(self):\n",
    "        super(CNNWithDropout, self).__init__()\n",
    "        self.conv1 = nn.Conv2d(3, 32, 3, padding=1)\n",
    "        self.conv2 = nn.Conv2d(32, 64, 3, padding=1)\n",
    "        self.pool = nn.MaxPool2d(2, 2)\n",
    "        self.dropout = nn.Dropout(0.5)\n",
    "        self.fc1 = nn.Linear(64 * 16 * 16, 128)\n",
    "        self.fc2 = nn.Linear(128, 3)\n",
    "        \n",
    "    def forward(self, x):\n",
    "        x = self.pool(F.relu(self.conv1(x)))\n",
    "        x = self.pool(F.relu(self.conv2(x)))\n",
    "        x = x.view(-1, 64 * 16 * 16)\n",
    "        x = F.relu(self.fc1(x))\n",
    "        x = self.dropout(x)\n",
    "        x = self.fc2(x)\n",
    "        return x\n",
    "\n",
    "cnnwithdropout = CNNWithDropout()\n",
    "print(cnnwithdropout)"
   ]
  },
  {
   "cell_type": "code",
   "execution_count": 11,
   "id": "e08fdcba-f388-4403-b5c8-b586db60a2c7",
   "metadata": {
    "execution": {
     "iopub.execute_input": "2024-12-09T15:35:05.909529Z",
     "iopub.status.busy": "2024-12-09T15:35:05.908514Z",
     "iopub.status.idle": "2024-12-09T15:35:05.928066Z",
     "shell.execute_reply": "2024-12-09T15:35:05.927207Z",
     "shell.execute_reply.started": "2024-12-09T15:35:05.909486Z"
    },
    "tags": []
   },
   "outputs": [],
   "source": [
    "criterion = nn.CrossEntropyLoss()\n",
    "optimizerNet = optim.SGD(net.parameters(), lr=0.001, momentum=0.9)\n",
    "optimizerDeepCNN = optim.SGD(deepcnn.parameters(), lr=0.001, momentum=0.9)\n",
    "optimizerDropout = optim.SGD(cnnwithdropout.parameters(), lr=0.001, momentum=0.9)\n",
    "device = torch.device(\"cpu\") # Replace \"cpu\" with \"cuda\" if using GPU"
   ]
  },
  {
   "cell_type": "code",
   "execution_count": 12,
   "id": "e6478143-ed66-4d6c-b56e-29eff3383f23",
   "metadata": {
    "execution": {
     "iopub.execute_input": "2024-12-09T15:35:06.395999Z",
     "iopub.status.busy": "2024-12-09T15:35:06.394823Z",
     "iopub.status.idle": "2024-12-09T15:35:06.417380Z",
     "shell.execute_reply": "2024-12-09T15:35:06.416585Z",
     "shell.execute_reply.started": "2024-12-09T15:35:06.395956Z"
    },
    "tags": []
   },
   "outputs": [],
   "source": [
    "def train_model(net, trainloader, optimizer, criterion, device):\n",
    "    net.train()\n",
    "    running_loss = 0.0\n",
    "    for inputs, labels in trainloader:\n",
    "        inputs, labels = inputs.to(device), labels.to(device)\n",
    "        optimizer.zero_grad()\n",
    "        outputs = net(inputs)\n",
    "        loss = criterion(outputs, labels)\n",
    "        loss.backward()\n",
    "        optimizer.step()\n",
    "        running_loss += loss.item()\n",
    "    return running_loss / len(trainloader)\n",
    "\n",
    "def evaluate_model(net, testloader, criterion, device):\n",
    "    net.eval()\n",
    "    test_loss = 0.0\n",
    "    correct = 0\n",
    "    total = 0\n",
    "    with torch.no_grad():\n",
    "        for inputs, labels in testloader:\n",
    "            inputs, labels = inputs.to(device), labels.to(device)\n",
    "            outputs = net(inputs)\n",
    "            loss = criterion(outputs, labels)\n",
    "            test_loss += loss.item()\n",
    "            _, predicted = torch.max(outputs, 1)\n",
    "            total += labels.size(0)\n",
    "            correct += (predicted == labels).sum().item()\n",
    "    accuracy = 100 * correct / total\n",
    "    return test_loss / len(testloader), accuracy\n"
   ]
  },
  {
   "cell_type": "code",
   "execution_count": null,
   "id": "5694da40-ed2c-4327-bcb1-7a888884f002",
   "metadata": {
    "execution": {
     "iopub.execute_input": "2024-12-09T15:35:06.965451Z",
     "iopub.status.busy": "2024-12-09T15:35:06.964315Z"
    },
    "tags": []
   },
   "outputs": [
    {
     "name": "stdout",
     "output_type": "stream",
     "text": [
      "Epoch 1, Train Loss: 1.5193, Test Loss: 0.3993, Accuracy: 84.67%\n",
      "Epoch 2, Train Loss: 0.3251\n",
      "Epoch 3, Train Loss: 0.2936\n",
      "Epoch 4, Train Loss: 0.2635\n",
      "Epoch 5, Train Loss: 0.2440, Test Loss: 0.2469, Accuracy: 89.97%\n",
      "Epoch 6, Train Loss: 0.2340\n",
      "Epoch 7, Train Loss: 0.2266\n",
      "Epoch 8, Train Loss: 0.2163\n",
      "Epoch 9, Train Loss: 0.2259\n",
      "Epoch 10, Train Loss: 0.2242, Test Loss: 0.2040, Accuracy: 92.50%\n"
     ]
    }
   ],
   "source": [
    "for epoch in range(10):\n",
    "    train_loss_net = train_model(net, train_loader, optimizerNet, criterion, device)\n",
    "    \n",
    "    if (epoch + 1) % 5 == 0 or epoch == 0:  # Выполнять каждые 5 эпох или на первой эпохе\n",
    "        test_loss_net, test_accuracy_net = evaluate_model(net, test_loader, criterion, device)\n",
    "        print(f\"Epoch {epoch+1}, Train Loss: {train_loss_net:.4f}, Test Loss: {test_loss_net:.4f}, Accuracy: {test_accuracy_net:.2f}%\")\n",
    "    else:\n",
    "        print(f\"Epoch {epoch+1}, Train Loss: {train_loss_net:.4f}\")"
   ]
  },
  {
   "cell_type": "code",
   "execution_count": 44,
   "id": "79d0df2d-0f09-49f7-a151-e8531491bccb",
   "metadata": {
    "execution": {
     "iopub.execute_input": "2024-12-02T15:31:03.246139Z",
     "iopub.status.busy": "2024-12-02T15:31:03.245161Z",
     "iopub.status.idle": "2024-12-02T15:47:48.651946Z",
     "shell.execute_reply": "2024-12-02T15:47:48.651024Z",
     "shell.execute_reply.started": "2024-12-02T15:31:03.246095Z"
    },
    "tags": []
   },
   "outputs": [
    {
     "name": "stdout",
     "output_type": "stream",
     "text": [
      "Epoch 1, Train Loss: 0.2225, Test Loss: 0.1971, Accuracy: 92.23%\n",
      "Epoch 2, Train Loss: 0.2148\n",
      "Epoch 3, Train Loss: 0.2153\n",
      "Epoch 4, Train Loss: 0.2193\n",
      "Epoch 5, Train Loss: 0.2023, Test Loss: 0.1595, Accuracy: 93.63%\n",
      "Epoch 6, Train Loss: 0.2072\n",
      "Epoch 7, Train Loss: 0.1962\n",
      "Epoch 8, Train Loss: 0.1939\n",
      "Epoch 9, Train Loss: 0.1856\n",
      "Epoch 10, Train Loss: 0.1811, Test Loss: 0.1476, Accuracy: 94.13%\n"
     ]
    }
   ],
   "source": [
    "for epoch in range(10):\n",
    "    train_loss_deep = train_model(deepcnn, train_loader, optimizerDeepCNN, criterion, device)\n",
    "    \n",
    "    if (epoch + 1) % 5 == 0 or epoch == 0:  # Выполнять каждые 5 эпох или на первой эпохе\n",
    "        test_loss_deep, test_accuracy_deep = evaluate_model(deepcnn, test_loader, criterion, device)\n",
    "        print(f\"Epoch {epoch+1}, Train Loss: {train_loss_deep:.4f}, Test Loss: {test_loss_deep:.4f}, Accuracy: {test_accuracy_deep:.2f}%\")\n",
    "    else:\n",
    "        print(f\"Epoch {epoch+1}, Train Loss: {train_loss_deep:.4f}\")"
   ]
  },
  {
   "cell_type": "code",
   "execution_count": 56,
   "id": "e3f78923-4985-4a0a-9fc2-4237e3be3d7b",
   "metadata": {
    "execution": {
     "iopub.execute_input": "2024-12-02T16:20:14.250168Z",
     "iopub.status.busy": "2024-12-02T16:20:14.249132Z",
     "iopub.status.idle": "2024-12-02T16:30:46.492796Z",
     "shell.execute_reply": "2024-12-02T16:30:46.491931Z",
     "shell.execute_reply.started": "2024-12-02T16:20:14.250120Z"
    },
    "tags": []
   },
   "outputs": [
    {
     "name": "stdout",
     "output_type": "stream",
     "text": [
      "Epoch 1, Train Loss: 0.2418, Test Loss: 0.2184, Accuracy: 90.57%\n",
      "Epoch 2, Train Loss: 0.2307\n",
      "Epoch 3, Train Loss: 0.2259\n",
      "Epoch 4, Train Loss: 0.2183\n",
      "Epoch 5, Train Loss: 0.2101, Test Loss: 0.2399, Accuracy: 90.73%\n",
      "Epoch 6, Train Loss: 0.2030\n",
      "Epoch 7, Train Loss: 0.1966\n",
      "Epoch 8, Train Loss: 0.1934\n",
      "Epoch 9, Train Loss: 0.1901\n",
      "Epoch 10, Train Loss: 0.1732, Test Loss: 0.1643, Accuracy: 93.67%\n"
     ]
    }
   ],
   "source": [
    "for epoch in range(10):\n",
    "    train_loss_dropout = train_model(cnnwithdropout, train_loader, oprimizerDropout, criterion, device)\n",
    "    \n",
    "    if (epoch + 1) % 5 == 0 or epoch == 0:  # Выполнять каждые 5 эпох или на первой эпохе\n",
    "        test_loss_dropout, test_accuracy_dropout = evaluate_model(cnnwithdropout, test_loader, criterion, device)\n",
    "        print(f\"Epoch {epoch+1}, Train Loss: {train_loss_dropout:.4f}, Test Loss: {test_loss_dropout:.4f}, Accuracy: {test_accuracy_dropout:.2f}%\")\n",
    "    else:\n",
    "        print(f\"Epoch {epoch+1}, Train Loss: {train_loss_dropout:.4f}\")"
   ]
  },
  {
   "cell_type": "code",
   "execution_count": 31,
   "id": "6ab1d381-4fbf-4fb6-9fee-1488dc074e88",
   "metadata": {
    "execution": {
     "iopub.execute_input": "2024-12-09T17:09:42.641409Z",
     "iopub.status.busy": "2024-12-09T17:09:42.640207Z",
     "iopub.status.idle": "2024-12-09T17:09:42.917665Z",
     "shell.execute_reply": "2024-12-09T17:09:42.916866Z",
     "shell.execute_reply.started": "2024-12-09T17:09:42.641353Z"
    },
    "tags": []
   },
   "outputs": [],
   "source": [
    "# Загружаем предобученную модель\n",
    "resnet = models.resnet18(weights=models.ResNet18_Weights.IMAGENET1K_V1)\n",
    "\n",
    "# Изменяем последний слой для задачи\n",
    "num_ftrs = resnet.fc.in_features\n",
    "resnet.fc = nn.Linear(num_ftrs, len(classes))\n",
    "resnet = resnet.to(device)\n",
    "\n",
    "# Оптимизатор\n",
    "optimizer_resnet = optim.Adam(resnet.parameters(), lr=0.001)\n",
    "\n",
    "# Загружаем предобученную модель\n",
    "mobilenet = models.mobilenet_v2(weights=models.MobileNet_V2_Weights.IMAGENET1K_V1)\n",
    "\n",
    "# Изменяем последний слой\n",
    "num_ftrs = mobilenet.last_channel\n",
    "mobilenet.classifier[1] = nn.Linear(num_ftrs, len(classes))\n",
    "mobilenet = mobilenet.to(device)\n",
    "\n",
    "# Оптимизатор\n",
    "optimizer_mobilenet = optim.Adam(mobilenet.parameters(), lr=0.001)"
   ]
  },
  {
   "cell_type": "code",
   "execution_count": 57,
   "id": "be94e18c-7d86-4b7e-b369-b020395309fd",
   "metadata": {
    "execution": {
     "iopub.execute_input": "2024-12-02T16:31:59.702239Z",
     "iopub.status.busy": "2024-12-02T16:31:59.701051Z",
     "iopub.status.idle": "2024-12-02T17:29:15.837583Z",
     "shell.execute_reply": "2024-12-02T17:29:15.836660Z",
     "shell.execute_reply.started": "2024-12-02T16:31:59.702182Z"
    },
    "tags": []
   },
   "outputs": [
    {
     "name": "stdout",
     "output_type": "stream",
     "text": [
      "Epoch 1, Train Loss: 0.5279, Test Loss: 0.3055, Accuracy: 86.27%\n",
      "Epoch 2, Train Loss: 0.3421\n",
      "Epoch 3, Train Loss: 0.2843\n",
      "Epoch 4, Train Loss: 0.2475\n",
      "Epoch 5, Train Loss: 0.2108, Test Loss: 0.1982, Accuracy: 92.07%\n",
      "Epoch 6, Train Loss: 0.2049\n",
      "Epoch 7, Train Loss: 0.1907\n",
      "Epoch 8, Train Loss: 0.1783\n",
      "Epoch 9, Train Loss: 0.1665\n",
      "Epoch 10, Train Loss: 0.1562, Test Loss: 0.1458, Accuracy: 94.53%\n"
     ]
    }
   ],
   "source": [
    "for epoch in range(10):\n",
    "    train_loss_resnet = train_model(resnet, train_loader, optimizer_resnet, criterion, device)\n",
    "    \n",
    "    if (epoch + 1) % 5 == 0 or epoch == 0:  # Выполнять каждые 5 эпох или на первой эпохе\n",
    "        test_loss_resnet, test_accuracy_resnet = evaluate_model(resnet, test_loader, criterion, device)\n",
    "        print(f\"Epoch {epoch+1}, Train Loss: {train_loss_resnet:.4f}, Test Loss: {test_loss_resnet:.4f}, Accuracy: {test_accuracy_resnet:.2f}%\")\n",
    "    else:\n",
    "        print(f\"Epoch {epoch+1}, Train Loss: {train_loss_resnet:.4f}\")"
   ]
  },
  {
   "cell_type": "code",
   "execution_count": 30,
   "id": "d792f21b-e916-430f-be36-3a0ce1d4f9f2",
   "metadata": {
    "tags": []
   },
   "outputs": [
    {
     "name": "stdout",
     "output_type": "stream",
     "text": [
      "Epoch 10, Train Loss: 0.1945, Test Loss: 0.1963, Accuracy: 93.77%\n"
     ]
    }
   ],
   "source": [
    "for epoch in range(10):\n",
    "    train_loss_mobilenet = train_model(mobilenet, train_loader, optimizer_mobilenet, criterion, device)\n",
    "    \n",
    "    if (epoch + 1) % 5 == 0 or epoch == 0:  # Выполнять каждые 5 эпох или на первой эпохе\n",
    "        test_loss_mobilenet, test_accuracy_mobilenet = evaluate_model(mobilenet, test_loader, criterion, device)\n",
    "        print(f\"Epoch {epoch+1}, Train Loss: {train_loss_mobilenet:.4f}, Test Loss: {test_loss_mobilenet:.4f}, Accuracy: {test_accuracy_mobilenet:.2f}%\")\n",
    "    else:\n",
    "        print(f\"Epoch {epoch+1}, Train Loss: {train_loss_mobilenet:.4f}\")"
   ]
  }
 ],
 "metadata": {
  "kernelspec": {
   "display_name": "DataSphere Kernel",
   "language": "python",
   "name": "python3"
  },
  "language_info": {
   "codemirror_mode": {
    "name": "ipython",
    "version": 3
   },
   "file_extension": ".py",
   "mimetype": "text/x-python",
   "name": "python",
   "nbconvert_exporter": "python",
   "pygments_lexer": "ipython3",
   "version": "3.10.12"
  }
 },
 "nbformat": 4,
 "nbformat_minor": 5
}
